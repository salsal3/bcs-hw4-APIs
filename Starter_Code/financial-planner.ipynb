{
 "cells": [
  {
   "cell_type": "markdown",
   "metadata": {},
   "source": [
    "# Unit 5 - Financial Planning"
   ]
  },
  {
   "cell_type": "code",
   "execution_count": 1,
   "metadata": {},
   "outputs": [],
   "source": [
    "# Initial imports\n",
    "import os\n",
    "import requests\n",
    "import pandas as pd\n",
    "import plotly.express as px\n",
    "from dotenv import load_dotenv\n",
    "import alpaca_trade_api as tradeapi\n",
    "from MCForecastTools import MCSimulation\n",
    "from datetime import date\n",
    "from dateutil.relativedelta import relativedelta\n",
    "\n",
    "%matplotlib inline"
   ]
  },
  {
   "cell_type": "code",
   "execution_count": 2,
   "metadata": {},
   "outputs": [
    {
     "data": {
      "text/plain": [
       "True"
      ]
     },
     "execution_count": 2,
     "metadata": {},
     "output_type": "execute_result"
    }
   ],
   "source": [
    "# Load .env enviroment variables\n",
    "load_dotenv('token.env')"
   ]
  },
  {
   "cell_type": "markdown",
   "metadata": {},
   "source": [
    "## Part 1 - Personal Finance Planner"
   ]
  },
  {
   "cell_type": "markdown",
   "metadata": {},
   "source": [
    "### Collect Crypto Prices Using the `requests` Library"
   ]
  },
  {
   "cell_type": "code",
   "execution_count": 3,
   "metadata": {},
   "outputs": [],
   "source": [
    "# Set current amount of crypto assets\n",
    "my_btc = 1.2\n",
    "my_eth = 5.3"
   ]
  },
  {
   "cell_type": "code",
   "execution_count": 4,
   "metadata": {},
   "outputs": [],
   "source": [
    "# Crypto API URLs\n",
    "btc_url = 'https://api.alternative.me/v2/ticker/Bitcoin/?convert=CAD'\n",
    "eth_url = 'https://api.alternative.me/v2/ticker/Ethereum/?convert=CAD'"
   ]
  },
  {
   "cell_type": "code",
   "execution_count": 5,
   "metadata": {},
   "outputs": [
    {
     "name": "stdout",
     "output_type": "stream",
     "text": [
      "61894.0\n",
      "4390.7 \n",
      "\n",
      "The current value of your 1.2 BTC is $74,272.80\n",
      "The current value of your 5.3 ETH is $23,270.71\n"
     ]
    }
   ],
   "source": [
    "## \\1-Activities\\05-APIs\\1\\07-Stu_House_of_Requests\\Solved\\url_parameters.ipynb\n",
    "\n",
    "# Fetch current BTC price\n",
    "btc_requests = requests.get(btc_url).json()\n",
    "btc_value = btc_requests['data']['1']['quotes']['USD']['price']\n",
    "print(btc_value)\n",
    "\n",
    "# Fetch current ETH price\n",
    "eth_requests = requests.get(eth_url).json()\n",
    "eth_value = eth_requests['data']['1027']['quotes']['USD']['price']\n",
    "print(eth_value, '\\n')\n",
    "\n",
    "# Compute current value of my crypto\n",
    "my_btc_value = my_btc * btc_value\n",
    "my_eth_value = my_eth * eth_value\n",
    "\n",
    "# Print current crypto wallet balance\n",
    "print(f\"The current value of your {my_btc} BTC is ${my_btc_value:,.2f}\")\n",
    "print(f\"The current value of your {my_eth} ETH is ${my_eth_value:,.2f}\")"
   ]
  },
  {
   "cell_type": "markdown",
   "metadata": {},
   "source": [
    "### Collect Investments Data Using Alpaca: `SPY` (stocks) and `AGG` (bonds)"
   ]
  },
  {
   "cell_type": "code",
   "execution_count": 6,
   "metadata": {},
   "outputs": [],
   "source": [
    "# Set current amount of shares\n",
    "my_spy = 50\n",
    "my_agg = 200"
   ]
  },
  {
   "cell_type": "code",
   "execution_count": 7,
   "metadata": {},
   "outputs": [
    {
     "name": "stdout",
     "output_type": "stream",
     "text": [
      "Alpaca Key type: <class 'str'>\n",
      "Alpaca Secret Key type: <class 'str'>\n"
     ]
    }
   ],
   "source": [
    "## \\01-Activities\\05-APIs\\2\\04-Ins_Alpaca_Demo\\Solved\\alpaca-demo.ipynb\n",
    "\n",
    "# Set Alpaca API key and secret\n",
    "alpaca_api_key = os.getenv('ALPACA_API_KEY')\n",
    "alpaca_secret_key = os.getenv('ALPACA_SECRET_KEY')\n",
    "base_url = 'https://paper-api.alpaca.markets'\n",
    "\n",
    "print(f\"Alpaca Key type: {type(alpaca_api_key)}\")\n",
    "print(f\"Alpaca Secret Key type: {type(alpaca_secret_key)}\")\n",
    "\n",
    "# Create the Alpaca API object\n",
    "alpaca = tradeapi.REST(alpaca_api_key, alpaca_secret_key, api_version='v2')"
   ]
  },
  {
   "cell_type": "code",
   "execution_count": 8,
   "metadata": {},
   "outputs": [
    {
     "name": "stdout",
     "output_type": "stream",
     "text": [
      "Today's date is: 2021-10-28\n"
     ]
    },
    {
     "data": {
      "text/html": [
       "<div>\n",
       "<style scoped>\n",
       "    .dataframe tbody tr th:only-of-type {\n",
       "        vertical-align: middle;\n",
       "    }\n",
       "\n",
       "    .dataframe tbody tr th {\n",
       "        vertical-align: top;\n",
       "    }\n",
       "\n",
       "    .dataframe thead tr th {\n",
       "        text-align: left;\n",
       "    }\n",
       "\n",
       "    .dataframe thead tr:last-of-type th {\n",
       "        text-align: right;\n",
       "    }\n",
       "</style>\n",
       "<table border=\"1\" class=\"dataframe\">\n",
       "  <thead>\n",
       "    <tr>\n",
       "      <th></th>\n",
       "      <th colspan=\"5\" halign=\"left\">AGG</th>\n",
       "      <th colspan=\"5\" halign=\"left\">SPY</th>\n",
       "    </tr>\n",
       "    <tr>\n",
       "      <th></th>\n",
       "      <th>open</th>\n",
       "      <th>high</th>\n",
       "      <th>low</th>\n",
       "      <th>close</th>\n",
       "      <th>volume</th>\n",
       "      <th>open</th>\n",
       "      <th>high</th>\n",
       "      <th>low</th>\n",
       "      <th>close</th>\n",
       "      <th>volume</th>\n",
       "    </tr>\n",
       "    <tr>\n",
       "      <th>time</th>\n",
       "      <th></th>\n",
       "      <th></th>\n",
       "      <th></th>\n",
       "      <th></th>\n",
       "      <th></th>\n",
       "      <th></th>\n",
       "      <th></th>\n",
       "      <th></th>\n",
       "      <th></th>\n",
       "      <th></th>\n",
       "    </tr>\n",
       "  </thead>\n",
       "  <tbody>\n",
       "    <tr>\n",
       "      <th>2021-10-28 00:00:00-04:00</th>\n",
       "      <td>114.71</td>\n",
       "      <td>114.825</td>\n",
       "      <td>114.57</td>\n",
       "      <td>114.65</td>\n",
       "      <td>4971007</td>\n",
       "      <td>455.46</td>\n",
       "      <td>458.4</td>\n",
       "      <td>455.45</td>\n",
       "      <td>458.27</td>\n",
       "      <td>43081788</td>\n",
       "    </tr>\n",
       "  </tbody>\n",
       "</table>\n",
       "</div>"
      ],
      "text/plain": [
       "                              AGG                                       SPY  \\\n",
       "                             open     high     low   close   volume    open   \n",
       "time                                                                          \n",
       "2021-10-28 00:00:00-04:00  114.71  114.825  114.57  114.65  4971007  455.46   \n",
       "\n",
       "                                                            \n",
       "                            high     low   close    volume  \n",
       "time                                                        \n",
       "2021-10-28 00:00:00-04:00  458.4  455.45  458.27  43081788  "
      ]
     },
     "execution_count": 8,
     "metadata": {},
     "output_type": "execute_result"
    }
   ],
   "source": [
    "# Format current date as ISO format\n",
    "date_today = date.today()\n",
    "print(f\"Today\\'s date is: {date_today}\")\n",
    "today = pd.Timestamp(date_today, tz='America/New_York').isoformat()\n",
    "\n",
    "# Set the tickers\n",
    "tickers = ['AGG', 'SPY']\n",
    "\n",
    "# Set timeframe to '1D' for Alpaca API\n",
    "timeframe = '1D'\n",
    "\n",
    "# Get current closing prices for SPY and AGG\n",
    "# (use a limit=1000 parameter to call the most recent 1000 days of data)\n",
    "df_portfolio = alpaca.get_barset(\n",
    "    tickers,\n",
    "    timeframe,\n",
    "    start = today,\n",
    "    end = today,\n",
    "    limit = 1000\n",
    ").df\n",
    "\n",
    "# Preview DataFrame\n",
    "df_portfolio"
   ]
  },
  {
   "cell_type": "code",
   "execution_count": 9,
   "metadata": {},
   "outputs": [
    {
     "name": "stdout",
     "output_type": "stream",
     "text": [
      "Current AGG closing price: $114.65\n",
      "Current SPY closing price: $458.27\n"
     ]
    }
   ],
   "source": [
    "# Pick AGG and SPY close prices\n",
    "spy_close_price = float(df_portfolio['SPY']['close'])\n",
    "agg_close_price = float(df_portfolio['AGG']['close'])\n",
    "\n",
    "# Print AGG and SPY close prices\n",
    "print(f\"Current AGG closing price: ${agg_close_price}\")\n",
    "print(f\"Current SPY closing price: ${spy_close_price}\")"
   ]
  },
  {
   "cell_type": "code",
   "execution_count": 10,
   "metadata": {},
   "outputs": [
    {
     "name": "stdout",
     "output_type": "stream",
     "text": [
      "The current value of your 200 AGG shares is $22,930.00.\n",
      "The current value of your 50 SPY shares is $22,913.50.\n",
      "The total value of your investment portfolio is $45,843.50.\n"
     ]
    }
   ],
   "source": [
    "# Compute the current value of shares\n",
    "## 05-APIs\\2\\05-Stu_Investment_Value\\Solved\\investment-value.ipynb\n",
    "my_agg_value = agg_close_price * my_agg\n",
    "my_spy_value = spy_close_price * my_spy\n",
    "\n",
    "# Print current value of shares\n",
    "print(f\"The current value of your {my_agg} AGG shares is ${my_agg_value:0,.2f}.\")\n",
    "print(f\"The current value of your {my_spy} SPY shares is ${my_spy_value:0,.2f}.\")\n",
    "print(f\"The total value of your investment portfolio is ${(my_spy_value + my_agg_value):0,.2f}.\")"
   ]
  },
  {
   "cell_type": "markdown",
   "metadata": {},
   "source": [
    "### Savings Health Analysis"
   ]
  },
  {
   "cell_type": "code",
   "execution_count": 11,
   "metadata": {},
   "outputs": [
    {
     "data": {
      "text/html": [
       "<div>\n",
       "<style scoped>\n",
       "    .dataframe tbody tr th:only-of-type {\n",
       "        vertical-align: middle;\n",
       "    }\n",
       "\n",
       "    .dataframe tbody tr th {\n",
       "        vertical-align: top;\n",
       "    }\n",
       "\n",
       "    .dataframe thead th {\n",
       "        text-align: right;\n",
       "    }\n",
       "</style>\n",
       "<table border=\"1\" class=\"dataframe\">\n",
       "  <thead>\n",
       "    <tr style=\"text-align: right;\">\n",
       "      <th></th>\n",
       "      <th>amount</th>\n",
       "    </tr>\n",
       "  </thead>\n",
       "  <tbody>\n",
       "    <tr>\n",
       "      <th>crypto</th>\n",
       "      <td>97543.51</td>\n",
       "    </tr>\n",
       "    <tr>\n",
       "      <th>shares</th>\n",
       "      <td>45843.50</td>\n",
       "    </tr>\n",
       "  </tbody>\n",
       "</table>\n",
       "</div>"
      ],
      "text/plain": [
       "          amount\n",
       "crypto  97543.51\n",
       "shares  45843.50"
      ]
     },
     "execution_count": 11,
     "metadata": {},
     "output_type": "execute_result"
    }
   ],
   "source": [
    "# Set monthly household income\n",
    "monthly_income = 12000\n",
    "\n",
    "# Consolidate financial assets data\n",
    "crypto_value = round(my_btc_value + my_eth_value, 2)\n",
    "shares_value = round(my_agg_value + my_spy_value, 2)\n",
    "\n",
    "# Create savings DataFrame\n",
    "df_savings = pd.DataFrame(\n",
    "    {'amount': [crypto_value, shares_value]},\n",
    "    ['crypto','shares'],\n",
    ")\n",
    "\n",
    "# Display savings DataFrame\n",
    "df_savings"
   ]
  },
  {
   "cell_type": "code",
   "execution_count": 12,
   "metadata": {},
   "outputs": [
    {
     "data": {
      "text/plain": [
       "array([<AxesSubplot:ylabel='amount'>], dtype=object)"
      ]
     },
     "execution_count": 12,
     "metadata": {},
     "output_type": "execute_result"
    },
    {
     "data": {
      "image/png": "[encoded data removed]",
      "text/plain": [
       "<Figure size 432x288 with 1 Axes>"
      ]
     },
     "metadata": {},
     "output_type": "display_data"
    }
   ],
   "source": [
    "# Plot savings pie chart\n",
    "df_savings.plot.pie(\n",
    "    subplots=True,\n",
    "    title='Composition of Personal Savings',\n",
    "    y='amount',\n",
    "    )"
   ]
  },
  {
   "cell_type": "code",
   "execution_count": 13,
   "metadata": {},
   "outputs": [
    {
     "data": {
      "application/vnd.plotly.v1+json": {
       "config": {
        "plotlyServerURL": "https://plot.ly"
       },
       "data": [
        {
         "customdata": [
          [
           97543.51
          ],
          [
           45843.5
          ]
         ],
         "domain": {
          "x": [
           0,
           1
          ],
          "y": [
           0,
           1
          ]
         },
         "hovertemplate": "asset=%{label}<br>amount=%{customdata[0]}<extra></extra>",
         "labels": [
          "crypto",
          "shares"
         ],
         "legendgroup": "",
         "name": "",
         "showlegend": true,
         "type": "pie",
         "values": [
          97543.51,
          45843.5
         ]
        }
       ],
       "layout": {
        "hoverlabel": {
         "bgcolor": "white"
        },
        "legend": {
         "bordercolor": "Black",
         "borderwidth": 1,
         "title": {
          "text": "asset"
         },
         "tracegroupgap": 0
        },
        "template": {
         "data": {
          "bar": [
           {
            "error_x": {
             "color": "#2a3f5f"
            },
            "error_y": {
             "color": "#2a3f5f"
            },
            "marker": {
             "line": {
              "color": "#E5ECF6",
              "width": 0.5
             },
             "pattern": {
              "fillmode": "overlay",
              "size": 10,
              "solidity": 0.2
             }
            },
            "type": "bar"
           }
          ],
          "barpolar": [
           {
            "marker": {
             "line": {
              "color": "#E5ECF6",
              "width": 0.5
             },
             "pattern": {
              "fillmode": "overlay",
              "size": 10,
              "solidity": 0.2
             }
            },
            "type": "barpolar"
           }
          ],
          "carpet": [
           {
            "aaxis": {
             "endlinecolor": "#2a3f5f",
             "gridcolor": "white",
             "linecolor": "white",
             "minorgridcolor": "white",
             "startlinecolor": "#2a3f5f"
            },
            "baxis": {
             "endlinecolor": "#2a3f5f",
             "gridcolor": "white",
             "linecolor": "white",
             "minorgridcolor": "white",
             "startlinecolor": "#2a3f5f"
            },
            "type": "carpet"
           }
          ],
          "choropleth": [
           {
            "colorbar": {
             "outlinewidth": 0,
             "ticks": ""
            },
            "type": "choropleth"
           }
          ],
          "contour": [
           {
            "colorbar": {
             "outlinewidth": 0,
             "ticks": ""
            },
            "colorscale": [
             [
              0,
              "#0d0887"
             ],
             [
              0.1111111111111111,
              "#46039f"
             ],
             [
              0.2222222222222222,
              "#7201a8"
             ],
             [
              0.3333333333333333,
              "#9c179e"
             ],
             [
              0.4444444444444444,
              "#bd3786"
             ],
             [
              0.5555555555555556,
              "#d8576b"
             ],
             [
              0.6666666666666666,
              "#ed7953"
             ],
             [
              0.7777777777777778,
              "#fb9f3a"
             ],
             [
              0.8888888888888888,
              "#fdca26"
             ],
             [
              1,
              "#f0f921"
             ]
            ],
            "type": "contour"
           }
          ],
          "contourcarpet": [
           {
            "colorbar": {
             "outlinewidth": 0,
             "ticks": ""
            },
            "type": "contourcarpet"
           }
          ],
          "heatmap": [
           {
            "colorbar": {
             "outlinewidth": 0,
             "ticks": ""
            },
            "colorscale": [
             [
              0,
              "#0d0887"
             ],
             [
              0.1111111111111111,
              "#46039f"
             ],
             [
              0.2222222222222222,
              "#7201a8"
             ],
             [
              0.3333333333333333,
              "#9c179e"
             ],
             [
              0.4444444444444444,
              "#bd3786"
             ],
             [
              0.5555555555555556,
              "#d8576b"
             ],
             [
              0.6666666666666666,
              "#ed7953"
             ],
             [
              0.7777777777777778,
              "#fb9f3a"
             ],
             [
              0.8888888888888888,
              "#fdca26"
             ],
             [
              1,
              "#f0f921"
             ]
            ],
            "type": "heatmap"
           }
          ],
          "heatmapgl": [
           {
            "colorbar": {
             "outlinewidth": 0,
             "ticks": ""
            },
            "colorscale": [
             [
              0,
              "#0d0887"
             ],
             [
              0.1111111111111111,
              "#46039f"
             ],
             [
              0.2222222222222222,
              "#7201a8"
             ],
             [
              0.3333333333333333,
              "#9c179e"
             ],
             [
              0.4444444444444444,
              "#bd3786"
             ],
             [
              0.5555555555555556,
              "#d8576b"
             ],
             [
              0.6666666666666666,
              "#ed7953"
             ],
             [
              0.7777777777777778,
              "#fb9f3a"
             ],
             [
              0.8888888888888888,
              "#fdca26"
             ],
             [
              1,
              "#f0f921"
             ]
            ],
            "type": "heatmapgl"
           }
          ],
          "histogram": [
           {
            "marker": {
             "pattern": {
              "fillmode": "overlay",
              "size": 10,
              "solidity": 0.2
             }
            },
            "type": "histogram"
           }
          ],
          "histogram2d": [
           {
            "colorbar": {
             "outlinewidth": 0,
             "ticks": ""
            },
            "colorscale": [
             [
              0,
              "#0d0887"
             ],
             [
              0.1111111111111111,
              "#46039f"
             ],
             [
              0.2222222222222222,
              "#7201a8"
             ],
             [
              0.3333333333333333,
              "#9c179e"
             ],
             [
              0.4444444444444444,
              "#bd3786"
             ],
             [
              0.5555555555555556,
              "#d8576b"
             ],
             [
              0.6666666666666666,
              "#ed7953"
             ],
             [
              0.7777777777777778,
              "#fb9f3a"
             ],
             [
              0.8888888888888888,
              "#fdca26"
             ],
             [
              1,
              "#f0f921"
             ]
            ],
            "type": "histogram2d"
           }
          ],
          "histogram2dcontour": [
           {
            "colorbar": {
             "outlinewidth": 0,
             "ticks": ""
            },
            "colorscale": [
             [
              0,
              "#0d0887"
             ],
             [
              0.1111111111111111,
              "#46039f"
             ],
             [
              0.2222222222222222,
              "#7201a8"
             ],
             [
              0.3333333333333333,
              "#9c179e"
             ],
             [
              0.4444444444444444,
              "#bd3786"
             ],
             [
              0.5555555555555556,
              "#d8576b"
             ],
             [
              0.6666666666666666,
              "#ed7953"
             ],
             [
              0.7777777777777778,
              "#fb9f3a"
             ],
             [
              0.8888888888888888,
              "#fdca26"
             ],
             [
              1,
              "#f0f921"
             ]
            ],
            "type": "histogram2dcontour"
           }
          ],
          "mesh3d": [
           {
            "colorbar": {
             "outlinewidth": 0,
             "ticks": ""
            },
            "type": "mesh3d"
           }
          ],
          "parcoords": [
           {
            "line": {
             "colorbar": {
              "outlinewidth": 0,
              "ticks": ""
             }
            },
            "type": "parcoords"
           }
          ],
          "pie": [
           {
            "automargin": true,
            "type": "pie"
           }
          ],
          "scatter": [
           {
            "marker": {
             "colorbar": {
              "outlinewidth": 0,
              "ticks": ""
             }
            },
            "type": "scatter"
           }
          ],
          "scatter3d": [
           {
            "line": {
             "colorbar": {
              "outlinewidth": 0,
              "ticks": ""
             }
            },
            "marker": {
             "colorbar": {
              "outlinewidth": 0,
              "ticks": ""
             }
            },
            "type": "scatter3d"
           }
          ],
          "scattercarpet": [
           {
            "marker": {
             "colorbar": {
              "outlinewidth": 0,
              "ticks": ""
             }
            },
            "type": "scattercarpet"
           }
          ],
          "scattergeo": [
           {
            "marker": {
             "colorbar": {
              "outlinewidth": 0,
              "ticks": ""
             }
            },
            "type": "scattergeo"
           }
          ],
          "scattergl": [
           {
            "marker": {
             "colorbar": {
              "outlinewidth": 0,
              "ticks": ""
             }
            },
            "type": "scattergl"
           }
          ],
          "scattermapbox": [
           {
            "marker": {
             "colorbar": {
              "outlinewidth": 0,
              "ticks": ""
             }
            },
            "type": "scattermapbox"
           }
          ],
          "scatterpolar": [
           {
            "marker": {
             "colorbar": {
              "outlinewidth": 0,
              "ticks": ""
             }
            },
            "type": "scatterpolar"
           }
          ],
          "scatterpolargl": [
           {
            "marker": {
             "colorbar": {
              "outlinewidth": 0,
              "ticks": ""
             }
            },
            "type": "scatterpolargl"
           }
          ],
          "scatterternary": [
           {
            "marker": {
             "colorbar": {
              "outlinewidth": 0,
              "ticks": ""
             }
            },
            "type": "scatterternary"
           }
          ],
          "surface": [
           {
            "colorbar": {
             "outlinewidth": 0,
             "ticks": ""
            },
            "colorscale": [
             [
              0,
              "#0d0887"
             ],
             [
              0.1111111111111111,
              "#46039f"
             ],
             [
              0.2222222222222222,
              "#7201a8"
             ],
             [
              0.3333333333333333,
              "#9c179e"
             ],
             [
              0.4444444444444444,
              "#bd3786"
             ],
             [
              0.5555555555555556,
              "#d8576b"
             ],
             [
              0.6666666666666666,
              "#ed7953"
             ],
             [
              0.7777777777777778,
              "#fb9f3a"
             ],
             [
              0.8888888888888888,
              "#fdca26"
             ],
             [
              1,
              "#f0f921"
             ]
            ],
            "type": "surface"
           }
          ],
          "table": [
           {
            "cells": {
             "fill": {
              "color": "#EBF0F8"
             },
             "line": {
              "color": "white"
             }
            },
            "header": {
             "fill": {
              "color": "#C8D4E3"
             },
             "line": {
              "color": "white"
             }
            },
            "type": "table"
           }
          ]
         },
         "layout": {
          "annotationdefaults": {
           "arrowcolor": "#2a3f5f",
           "arrowhead": 0,
           "arrowwidth": 1
          },
          "autotypenumbers": "strict",
          "coloraxis": {
           "colorbar": {
            "outlinewidth": 0,
            "ticks": ""
           }
          },
          "colorscale": {
           "diverging": [
            [
             0,
             "#8e0152"
            ],
            [
             0.1,
             "#c51b7d"
            ],
            [
             0.2,
             "#de77ae"
            ],
            [
             0.3,
             "#f1b6da"
            ],
            [
             0.4,
             "#fde0ef"
            ],
            [
             0.5,
             "#f7f7f7"
            ],
            [
             0.6,
             "#e6f5d0"
            ],
            [
             0.7,
             "#b8e186"
            ],
            [
             0.8,
             "#7fbc41"
            ],
            [
             0.9,
             "#4d9221"
            ],
            [
             1,
             "#276419"
            ]
           ],
           "sequential": [
            [
             0,
             "#0d0887"
            ],
            [
             0.1111111111111111,
             "#46039f"
            ],
            [
             0.2222222222222222,
             "#7201a8"
            ],
            [
             0.3333333333333333,
             "#9c179e"
            ],
            [
             0.4444444444444444,
             "#bd3786"
            ],
            [
             0.5555555555555556,
             "#d8576b"
            ],
            [
             0.6666666666666666,
             "#ed7953"
            ],
            [
             0.7777777777777778,
             "#fb9f3a"
            ],
            [
             0.8888888888888888,
             "#fdca26"
            ],
            [
             1,
             "#f0f921"
            ]
           ],
           "sequentialminus": [
            [
             0,
             "#0d0887"
            ],
            [
             0.1111111111111111,
             "#46039f"
            ],
            [
             0.2222222222222222,
             "#7201a8"
            ],
            [
             0.3333333333333333,
             "#9c179e"
            ],
            [
             0.4444444444444444,
             "#bd3786"
            ],
            [
             0.5555555555555556,
             "#d8576b"
            ],
            [
             0.6666666666666666,
             "#ed7953"
            ],
            [
             0.7777777777777778,
             "#fb9f3a"
            ],
            [
             0.8888888888888888,
             "#fdca26"
            ],
            [
             1,
             "#f0f921"
            ]
           ]
          },
          "colorway": [
           "#636efa",
           "#EF553B",
           "#00cc96",
           "#ab63fa",
           "#FFA15A",
           "#19d3f3",
           "#FF6692",
           "#B6E880",
           "#FF97FF",
           "#FECB52"
          ],
          "font": {
           "color": "#2a3f5f"
          },
          "geo": {
           "bgcolor": "white",
           "lakecolor": "white",
           "landcolor": "#E5ECF6",
           "showlakes": true,
           "showland": true,
           "subunitcolor": "white"
          },
          "hoverlabel": {
           "align": "left"
          },
          "hovermode": "closest",
          "mapbox": {
           "style": "light"
          },
          "paper_bgcolor": "white",
          "plot_bgcolor": "#E5ECF6",
          "polar": {
           "angularaxis": {
            "gridcolor": "white",
            "linecolor": "white",
            "ticks": ""
           },
           "bgcolor": "#E5ECF6",
           "radialaxis": {
            "gridcolor": "white",
            "linecolor": "white",
            "ticks": ""
           }
          },
          "scene": {
           "xaxis": {
            "backgroundcolor": "#E5ECF6",
            "gridcolor": "white",
            "gridwidth": 2,
            "linecolor": "white",
            "showbackground": true,
            "ticks": "",
            "zerolinecolor": "white"
           },
           "yaxis": {
            "backgroundcolor": "#E5ECF6",
            "gridcolor": "white",
            "gridwidth": 2,
            "linecolor": "white",
            "showbackground": true,
            "ticks": "",
            "zerolinecolor": "white"
           },
           "zaxis": {
            "backgroundcolor": "#E5ECF6",
            "gridcolor": "white",
            "gridwidth": 2,
            "linecolor": "white",
            "showbackground": true,
            "ticks": "",
            "zerolinecolor": "white"
           }
          },
          "shapedefaults": {
           "line": {
            "color": "#2a3f5f"
           }
          },
          "ternary": {
           "aaxis": {
            "gridcolor": "white",
            "linecolor": "white",
            "ticks": ""
           },
           "baxis": {
            "gridcolor": "white",
            "linecolor": "white",
            "ticks": ""
           },
           "bgcolor": "#E5ECF6",
           "caxis": {
            "gridcolor": "white",
            "linecolor": "white",
            "ticks": ""
           }
          },
          "title": {
           "x": 0.05
          },
          "xaxis": {
           "automargin": true,
           "gridcolor": "white",
           "linecolor": "white",
           "ticks": "",
           "title": {
            "standoff": 15
           },
           "zerolinecolor": "white",
           "zerolinewidth": 2
          },
          "yaxis": {
           "automargin": true,
           "gridcolor": "white",
           "linecolor": "white",
           "ticks": "",
           "title": {
            "standoff": 15
           },
           "zerolinecolor": "white",
           "zerolinewidth": 2
          }
         }
        },
        "title": {
         "text": "Composition of Personal Savings"
        }
       }
      }
     },
     "metadata": {},
     "output_type": "display_data"
    }
   ],
   "source": [
    "# Pie chart using plotly express\n",
    "fig = px.pie(df_savings,\n",
    "             values='amount',\n",
    "             names=df_savings.index,\n",
    "             labels={'index':'asset'},\n",
    "             title='Composition of Personal Savings',\n",
    "             hover_data=['amount']\n",
    ")\n",
    "fig.update_layout(\n",
    "    legend_title_text='asset',\n",
    "    hoverlabel=dict(\n",
    "        bgcolor='white',\n",
    "    ),\n",
    "    legend=dict(\n",
    "        bordercolor='Black',\n",
    "        borderwidth=1,\n",
    "    )\n",
    ")\n",
    "fig.show()"
   ]
  },
  {
   "cell_type": "code",
   "execution_count": 14,
   "metadata": {},
   "outputs": [
    {
     "name": "stdout",
     "output_type": "stream",
     "text": [
      "Emergency fund amount: $36,000.00\n",
      "Savings amount: $143,387.01\n",
      "\n",
      "savings_value > emergency_fund:\n",
      "Amazing! You've saved more than the minimum for your emergency fund!\n"
     ]
    }
   ],
   "source": [
    "# Set ideal emergency fund\n",
    "emergency_fund = monthly_income * 3\n",
    "print(f\"Emergency fund amount: ${emergency_fund:,.2f}\")\n",
    "\n",
    "# Calculate total amount of savings\n",
    "savings_value = df_savings['amount'].sum()\n",
    "print(f\"Savings amount: ${savings_value:,.2f}\")\n",
    "\n",
    "# Validate saving health\n",
    "def savings_health(savings_value):\n",
    "    if savings_value > emergency_fund:\n",
    "        print('Amazing! You\\'ve saved more than the minimum for your emergency fund!')\n",
    "    elif savings_value == emergency_fund:\n",
    "        print('Congratulations! You\\'ve reached your emergency fund goal!')\n",
    "    elif savings_value < emergency_fund:\n",
    "        print(f'You still need to save ${(emergency_fund - savings_value):0,.2f} to meet your goal. Keep at it!')\n",
    "\n",
    "print(f\"\\nsavings_value > emergency_fund:\")\n",
    "savings_health(savings_value)"
   ]
  },
  {
   "cell_type": "code",
   "execution_count": 15,
   "metadata": {},
   "outputs": [
    {
     "name": "stdout",
     "output_type": "stream",
     "text": [
      "savings_value == emergency_fund:\n",
      "Congratulations! You've reached your emergency fund goal!\n",
      "\n",
      "savings_value < emergency_fund:\n",
      "You still need to save $1,000.00 to meet your goal. Keep at it!\n"
     ]
    }
   ],
   "source": [
    "# Test other validation messages\n",
    "print(f\"savings_value == emergency_fund:\")\n",
    "savings_health(36000)\n",
    "print()\n",
    "\n",
    "print(f\"savings_value < emergency_fund:\")\n",
    "savings_health(35000)"
   ]
  },
  {
   "cell_type": "markdown",
   "metadata": {},
   "source": [
    "## Part 2 - Retirement Planning\n",
    "\n",
    "### Monte Carlo Simulation"
   ]
  },
  {
   "cell_type": "code",
   "execution_count": 16,
   "metadata": {},
   "outputs": [
    {
     "name": "stdout",
     "output_type": "stream",
     "text": [
      "Today's date is 2021-10-28.\n",
      "The date five years ago was 2016-10-28.\n"
     ]
    }
   ],
   "source": [
    "# Set start and end dates of five years back from today.\n",
    "# Sample results may vary from the solution based on the time frame chosen\n",
    "date_five_years = date_today - relativedelta(years=5)\n",
    "print(f\"Today's date is {date_today}.\")\n",
    "print(f\"The date five years ago was {date_five_years}.\")\n",
    "start_date = pd.Timestamp(date_five_years, tz='America/New_York').isoformat()\n",
    "end_date = pd.Timestamp(date_today, tz='America/New_York').isoformat()"
   ]
  },
  {
   "cell_type": "code",
   "execution_count": 17,
   "metadata": {},
   "outputs": [
    {
     "data": {
      "text/html": [
       "<div>\n",
       "<style scoped>\n",
       "    .dataframe tbody tr th:only-of-type {\n",
       "        vertical-align: middle;\n",
       "    }\n",
       "\n",
       "    .dataframe tbody tr th {\n",
       "        vertical-align: top;\n",
       "    }\n",
       "\n",
       "    .dataframe thead tr th {\n",
       "        text-align: left;\n",
       "    }\n",
       "\n",
       "    .dataframe thead tr:last-of-type th {\n",
       "        text-align: right;\n",
       "    }\n",
       "</style>\n",
       "<table border=\"1\" class=\"dataframe\">\n",
       "  <thead>\n",
       "    <tr>\n",
       "      <th></th>\n",
       "      <th colspan=\"5\" halign=\"left\">AGG</th>\n",
       "      <th colspan=\"5\" halign=\"left\">SPY</th>\n",
       "    </tr>\n",
       "    <tr>\n",
       "      <th></th>\n",
       "      <th>open</th>\n",
       "      <th>high</th>\n",
       "      <th>low</th>\n",
       "      <th>close</th>\n",
       "      <th>volume</th>\n",
       "      <th>open</th>\n",
       "      <th>high</th>\n",
       "      <th>low</th>\n",
       "      <th>close</th>\n",
       "      <th>volume</th>\n",
       "    </tr>\n",
       "    <tr>\n",
       "      <th>time</th>\n",
       "      <th></th>\n",
       "      <th></th>\n",
       "      <th></th>\n",
       "      <th></th>\n",
       "      <th></th>\n",
       "      <th></th>\n",
       "      <th></th>\n",
       "      <th></th>\n",
       "      <th></th>\n",
       "      <th></th>\n",
       "    </tr>\n",
       "  </thead>\n",
       "  <tbody>\n",
       "    <tr>\n",
       "      <th>2017-11-08 00:00:00-05:00</th>\n",
       "      <td>109.54</td>\n",
       "      <td>109.60</td>\n",
       "      <td>109.46</td>\n",
       "      <td>109.500</td>\n",
       "      <td>2228734</td>\n",
       "      <td>258.46</td>\n",
       "      <td>259.2200</td>\n",
       "      <td>258.15</td>\n",
       "      <td>259.13</td>\n",
       "      <td>32174191</td>\n",
       "    </tr>\n",
       "    <tr>\n",
       "      <th>2017-11-09 00:00:00-05:00</th>\n",
       "      <td>109.39</td>\n",
       "      <td>109.46</td>\n",
       "      <td>109.30</td>\n",
       "      <td>109.420</td>\n",
       "      <td>1941380</td>\n",
       "      <td>257.73</td>\n",
       "      <td>258.3900</td>\n",
       "      <td>256.36</td>\n",
       "      <td>258.20</td>\n",
       "      <td>75322217</td>\n",
       "    </tr>\n",
       "    <tr>\n",
       "      <th>2017-11-10 00:00:00-05:00</th>\n",
       "      <td>109.06</td>\n",
       "      <td>109.15</td>\n",
       "      <td>108.97</td>\n",
       "      <td>108.985</td>\n",
       "      <td>1488306</td>\n",
       "      <td>257.73</td>\n",
       "      <td>258.2100</td>\n",
       "      <td>257.37</td>\n",
       "      <td>258.08</td>\n",
       "      <td>35755951</td>\n",
       "    </tr>\n",
       "    <tr>\n",
       "      <th>2017-11-13 00:00:00-05:00</th>\n",
       "      <td>109.11</td>\n",
       "      <td>109.11</td>\n",
       "      <td>108.96</td>\n",
       "      <td>108.980</td>\n",
       "      <td>1677797</td>\n",
       "      <td>257.32</td>\n",
       "      <td>258.5900</td>\n",
       "      <td>257.27</td>\n",
       "      <td>258.34</td>\n",
       "      <td>31963013</td>\n",
       "    </tr>\n",
       "    <tr>\n",
       "      <th>2017-11-14 00:00:00-05:00</th>\n",
       "      <td>109.01</td>\n",
       "      <td>109.12</td>\n",
       "      <td>109.00</td>\n",
       "      <td>109.105</td>\n",
       "      <td>2663310</td>\n",
       "      <td>257.40</td>\n",
       "      <td>258.3581</td>\n",
       "      <td>256.52</td>\n",
       "      <td>257.75</td>\n",
       "      <td>41935632</td>\n",
       "    </tr>\n",
       "  </tbody>\n",
       "</table>\n",
       "</div>"
      ],
      "text/plain": [
       "                              AGG                                       SPY  \\\n",
       "                             open    high     low    close   volume    open   \n",
       "time                                                                          \n",
       "2017-11-08 00:00:00-05:00  109.54  109.60  109.46  109.500  2228734  258.46   \n",
       "2017-11-09 00:00:00-05:00  109.39  109.46  109.30  109.420  1941380  257.73   \n",
       "2017-11-10 00:00:00-05:00  109.06  109.15  108.97  108.985  1488306  257.73   \n",
       "2017-11-13 00:00:00-05:00  109.11  109.11  108.96  108.980  1677797  257.32   \n",
       "2017-11-14 00:00:00-05:00  109.01  109.12  109.00  109.105  2663310  257.40   \n",
       "\n",
       "                                                               \n",
       "                               high     low   close    volume  \n",
       "time                                                           \n",
       "2017-11-08 00:00:00-05:00  259.2200  258.15  259.13  32174191  \n",
       "2017-11-09 00:00:00-05:00  258.3900  256.36  258.20  75322217  \n",
       "2017-11-10 00:00:00-05:00  258.2100  257.37  258.08  35755951  \n",
       "2017-11-13 00:00:00-05:00  258.5900  257.27  258.34  31963013  \n",
       "2017-11-14 00:00:00-05:00  258.3581  256.52  257.75  41935632  "
      ]
     },
     "execution_count": 17,
     "metadata": {},
     "output_type": "execute_result"
    }
   ],
   "source": [
    "# Get 5 years' worth of historical data for SPY and AGG\n",
    "# (use a limit=1000 parameter to call the most recent 1000 days of data)\n",
    "df_stock_data = alpaca.get_barset(\n",
    "    tickers,\n",
    "    timeframe,\n",
    "    start = start_date,\n",
    "    end = end_date,\n",
    "    limit = 1000\n",
    ").df\n",
    "\n",
    "# Display sample data\n",
    "df_stock_data.head()"
   ]
  },
  {
   "cell_type": "code",
   "execution_count": 18,
   "metadata": {},
   "outputs": [],
   "source": [
    "# Configuring a Monte Carlo simulation to forecast 30 years cumulative returns\n",
    "mc_forecast = MCSimulation(\n",
    "    portfolio_data = df_stock_data,\n",
    "    weights = [.4,.6],\n",
    "    num_simulation = 500,\n",
    "    num_trading_days = 252*30\n",
    ")\n"
   ]
  },
  {
   "cell_type": "code",
   "execution_count": 19,
   "metadata": {},
   "outputs": [
    {
     "data": {
      "text/html": [
       "<div>\n",
       "<style scoped>\n",
       "    .dataframe tbody tr th:only-of-type {\n",
       "        vertical-align: middle;\n",
       "    }\n",
       "\n",
       "    .dataframe tbody tr th {\n",
       "        vertical-align: top;\n",
       "    }\n",
       "\n",
       "    .dataframe thead tr th {\n",
       "        text-align: left;\n",
       "    }\n",
       "\n",
       "    .dataframe thead tr:last-of-type th {\n",
       "        text-align: right;\n",
       "    }\n",
       "</style>\n",
       "<table border=\"1\" class=\"dataframe\">\n",
       "  <thead>\n",
       "    <tr>\n",
       "      <th></th>\n",
       "      <th colspan=\"6\" halign=\"left\">AGG</th>\n",
       "      <th colspan=\"6\" halign=\"left\">SPY</th>\n",
       "    </tr>\n",
       "    <tr>\n",
       "      <th></th>\n",
       "      <th>open</th>\n",
       "      <th>high</th>\n",
       "      <th>low</th>\n",
       "      <th>close</th>\n",
       "      <th>volume</th>\n",
       "      <th>daily_return</th>\n",
       "      <th>open</th>\n",
       "      <th>high</th>\n",
       "      <th>low</th>\n",
       "      <th>close</th>\n",
       "      <th>volume</th>\n",
       "      <th>daily_return</th>\n",
       "    </tr>\n",
       "    <tr>\n",
       "      <th>time</th>\n",
       "      <th></th>\n",
       "      <th></th>\n",
       "      <th></th>\n",
       "      <th></th>\n",
       "      <th></th>\n",
       "      <th></th>\n",
       "      <th></th>\n",
       "      <th></th>\n",
       "      <th></th>\n",
       "      <th></th>\n",
       "      <th></th>\n",
       "      <th></th>\n",
       "    </tr>\n",
       "  </thead>\n",
       "  <tbody>\n",
       "    <tr>\n",
       "      <th>2017-11-08 00:00:00-05:00</th>\n",
       "      <td>109.54</td>\n",
       "      <td>109.60</td>\n",
       "      <td>109.46</td>\n",
       "      <td>109.500</td>\n",
       "      <td>2228734</td>\n",
       "      <td>NaN</td>\n",
       "      <td>258.46</td>\n",
       "      <td>259.2200</td>\n",
       "      <td>258.15</td>\n",
       "      <td>259.13</td>\n",
       "      <td>32174191</td>\n",
       "      <td>NaN</td>\n",
       "    </tr>\n",
       "    <tr>\n",
       "      <th>2017-11-09 00:00:00-05:00</th>\n",
       "      <td>109.39</td>\n",
       "      <td>109.46</td>\n",
       "      <td>109.30</td>\n",
       "      <td>109.420</td>\n",
       "      <td>1941380</td>\n",
       "      <td>-0.000731</td>\n",
       "      <td>257.73</td>\n",
       "      <td>258.3900</td>\n",
       "      <td>256.36</td>\n",
       "      <td>258.20</td>\n",
       "      <td>75322217</td>\n",
       "      <td>-0.003589</td>\n",
       "    </tr>\n",
       "    <tr>\n",
       "      <th>2017-11-10 00:00:00-05:00</th>\n",
       "      <td>109.06</td>\n",
       "      <td>109.15</td>\n",
       "      <td>108.97</td>\n",
       "      <td>108.985</td>\n",
       "      <td>1488306</td>\n",
       "      <td>-0.003976</td>\n",
       "      <td>257.73</td>\n",
       "      <td>258.2100</td>\n",
       "      <td>257.37</td>\n",
       "      <td>258.08</td>\n",
       "      <td>35755951</td>\n",
       "      <td>-0.000465</td>\n",
       "    </tr>\n",
       "    <tr>\n",
       "      <th>2017-11-13 00:00:00-05:00</th>\n",
       "      <td>109.11</td>\n",
       "      <td>109.11</td>\n",
       "      <td>108.96</td>\n",
       "      <td>108.980</td>\n",
       "      <td>1677797</td>\n",
       "      <td>-0.000046</td>\n",
       "      <td>257.32</td>\n",
       "      <td>258.5900</td>\n",
       "      <td>257.27</td>\n",
       "      <td>258.34</td>\n",
       "      <td>31963013</td>\n",
       "      <td>0.001007</td>\n",
       "    </tr>\n",
       "    <tr>\n",
       "      <th>2017-11-14 00:00:00-05:00</th>\n",
       "      <td>109.01</td>\n",
       "      <td>109.12</td>\n",
       "      <td>109.00</td>\n",
       "      <td>109.105</td>\n",
       "      <td>2663310</td>\n",
       "      <td>0.001147</td>\n",
       "      <td>257.40</td>\n",
       "      <td>258.3581</td>\n",
       "      <td>256.52</td>\n",
       "      <td>257.75</td>\n",
       "      <td>41935632</td>\n",
       "      <td>-0.002284</td>\n",
       "    </tr>\n",
       "  </tbody>\n",
       "</table>\n",
       "</div>"
      ],
      "text/plain": [
       "                              AGG                                    \\\n",
       "                             open    high     low    close   volume   \n",
       "time                                                                  \n",
       "2017-11-08 00:00:00-05:00  109.54  109.60  109.46  109.500  2228734   \n",
       "2017-11-09 00:00:00-05:00  109.39  109.46  109.30  109.420  1941380   \n",
       "2017-11-10 00:00:00-05:00  109.06  109.15  108.97  108.985  1488306   \n",
       "2017-11-13 00:00:00-05:00  109.11  109.11  108.96  108.980  1677797   \n",
       "2017-11-14 00:00:00-05:00  109.01  109.12  109.00  109.105  2663310   \n",
       "\n",
       "                                           SPY                            \\\n",
       "                          daily_return    open      high     low   close   \n",
       "time                                                                       \n",
       "2017-11-08 00:00:00-05:00          NaN  258.46  259.2200  258.15  259.13   \n",
       "2017-11-09 00:00:00-05:00    -0.000731  257.73  258.3900  256.36  258.20   \n",
       "2017-11-10 00:00:00-05:00    -0.003976  257.73  258.2100  257.37  258.08   \n",
       "2017-11-13 00:00:00-05:00    -0.000046  257.32  258.5900  257.27  258.34   \n",
       "2017-11-14 00:00:00-05:00     0.001147  257.40  258.3581  256.52  257.75   \n",
       "\n",
       "                                                  \n",
       "                             volume daily_return  \n",
       "time                                              \n",
       "2017-11-08 00:00:00-05:00  32174191          NaN  \n",
       "2017-11-09 00:00:00-05:00  75322217    -0.003589  \n",
       "2017-11-10 00:00:00-05:00  35755951    -0.000465  \n",
       "2017-11-13 00:00:00-05:00  31963013     0.001007  \n",
       "2017-11-14 00:00:00-05:00  41935632    -0.002284  "
      ]
     },
     "execution_count": 19,
     "metadata": {},
     "output_type": "execute_result"
    }
   ],
   "source": [
    "# Printing the simulation input data\n",
    "mc_forecast.portfolio_data.head()"
   ]
  },
  {
   "cell_type": "code",
   "execution_count": 20,
   "metadata": {},
   "outputs": [
    {
     "name": "stdout",
     "output_type": "stream",
     "text": [
      "Running Monte Carlo simulation number 0.\n",
      "Running Monte Carlo simulation number 10.\n",
      "Running Monte Carlo simulation number 20.\n",
      "Running Monte Carlo simulation number 30.\n",
      "Running Monte Carlo simulation number 40.\n",
      "Running Monte Carlo simulation number 50.\n",
      "Running Monte Carlo simulation number 60.\n",
      "Running Monte Carlo simulation number 70.\n",
      "Running Monte Carlo simulation number 80.\n",
      "Running Monte Carlo simulation number 90.\n",
      "Running Monte Carlo simulation number 100.\n"
     ]
    },
    {
     "name": "stderr",
     "output_type": "stream",
     "text": [
      "d:\\Saru\\Documents\\Bootcamp\\bcs-assignments\\homework\\bcs-hw5-APIs\\Starter_Code\\MCForecastTools.py:117: PerformanceWarning:\n",
      "\n",
      "DataFrame is highly fragmented.  This is usually the result of calling `frame.insert` many times, which has poor performance.  Consider joining all columns at once using pd.concat(axis=1) instead.  To get a de-fragmented frame, use `newframe = frame.copy()`\n",
      "\n"
     ]
    },
    {
     "name": "stdout",
     "output_type": "stream",
     "text": [
      "Running Monte Carlo simulation number 110.\n",
      "Running Monte Carlo simulation number 120.\n",
      "Running Monte Carlo simulation number 130.\n",
      "Running Monte Carlo simulation number 140.\n",
      "Running Monte Carlo simulation number 150.\n",
      "Running Monte Carlo simulation number 160.\n",
      "Running Monte Carlo simulation number 170.\n",
      "Running Monte Carlo simulation number 180.\n",
      "Running Monte Carlo simulation number 190.\n",
      "Running Monte Carlo simulation number 200.\n",
      "Running Monte Carlo simulation number 210.\n",
      "Running Monte Carlo simulation number 220.\n",
      "Running Monte Carlo simulation number 230.\n",
      "Running Monte Carlo simulation number 240.\n",
      "Running Monte Carlo simulation number 250.\n",
      "Running Monte Carlo simulation number 260.\n",
      "Running Monte Carlo simulation number 270.\n",
      "Running Monte Carlo simulation number 280.\n",
      "Running Monte Carlo simulation number 290.\n",
      "Running Monte Carlo simulation number 300.\n",
      "Running Monte Carlo simulation number 310.\n",
      "Running Monte Carlo simulation number 320.\n",
      "Running Monte Carlo simulation number 330.\n",
      "Running Monte Carlo simulation number 340.\n",
      "Running Monte Carlo simulation number 350.\n",
      "Running Monte Carlo simulation number 360.\n",
      "Running Monte Carlo simulation number 370.\n",
      "Running Monte Carlo simulation number 380.\n",
      "Running Monte Carlo simulation number 390.\n",
      "Running Monte Carlo simulation number 400.\n",
      "Running Monte Carlo simulation number 410.\n",
      "Running Monte Carlo simulation number 420.\n",
      "Running Monte Carlo simulation number 430.\n",
      "Running Monte Carlo simulation number 440.\n",
      "Running Monte Carlo simulation number 450.\n",
      "Running Monte Carlo simulation number 460.\n",
      "Running Monte Carlo simulation number 470.\n",
      "Running Monte Carlo simulation number 480.\n",
      "Running Monte Carlo simulation number 490.\n"
     ]
    },
    {
     "data": {
      "text/html": [
       "<div>\n",
       "<style scoped>\n",
       "    .dataframe tbody tr th:only-of-type {\n",
       "        vertical-align: middle;\n",
       "    }\n",
       "\n",
       "    .dataframe tbody tr th {\n",
       "        vertical-align: top;\n",
       "    }\n",
       "\n",
       "    .dataframe thead th {\n",
       "        text-align: right;\n",
       "    }\n",
       "</style>\n",
       "<table border=\"1\" class=\"dataframe\">\n",
       "  <thead>\n",
       "    <tr style=\"text-align: right;\">\n",
       "      <th></th>\n",
       "      <th>0</th>\n",
       "      <th>1</th>\n",
       "      <th>2</th>\n",
       "      <th>3</th>\n",
       "      <th>4</th>\n",
       "      <th>5</th>\n",
       "      <th>6</th>\n",
       "      <th>7</th>\n",
       "      <th>8</th>\n",
       "      <th>9</th>\n",
       "      <th>...</th>\n",
       "      <th>490</th>\n",
       "      <th>491</th>\n",
       "      <th>492</th>\n",
       "      <th>493</th>\n",
       "      <th>494</th>\n",
       "      <th>495</th>\n",
       "      <th>496</th>\n",
       "      <th>497</th>\n",
       "      <th>498</th>\n",
       "      <th>499</th>\n",
       "    </tr>\n",
       "  </thead>\n",
       "  <tbody>\n",
       "    <tr>\n",
       "      <th>0</th>\n",
       "      <td>1.000000</td>\n",
       "      <td>1.000000</td>\n",
       "      <td>1.000000</td>\n",
       "      <td>1.000000</td>\n",
       "      <td>1.000000</td>\n",
       "      <td>1.000000</td>\n",
       "      <td>1.000000</td>\n",
       "      <td>1.000000</td>\n",
       "      <td>1.000000</td>\n",
       "      <td>1.000000</td>\n",
       "      <td>...</td>\n",
       "      <td>1.000000</td>\n",
       "      <td>1.000000</td>\n",
       "      <td>1.000000</td>\n",
       "      <td>1.000000</td>\n",
       "      <td>1.000000</td>\n",
       "      <td>1.000000</td>\n",
       "      <td>1.000000</td>\n",
       "      <td>1.000000</td>\n",
       "      <td>1.000000</td>\n",
       "      <td>1.000000</td>\n",
       "    </tr>\n",
       "    <tr>\n",
       "      <th>1</th>\n",
       "      <td>0.991788</td>\n",
       "      <td>1.000509</td>\n",
       "      <td>0.992614</td>\n",
       "      <td>0.986817</td>\n",
       "      <td>0.996701</td>\n",
       "      <td>0.987915</td>\n",
       "      <td>0.998080</td>\n",
       "      <td>0.999120</td>\n",
       "      <td>1.005569</td>\n",
       "      <td>1.003888</td>\n",
       "      <td>...</td>\n",
       "      <td>0.999521</td>\n",
       "      <td>1.005271</td>\n",
       "      <td>0.999875</td>\n",
       "      <td>0.996030</td>\n",
       "      <td>0.989129</td>\n",
       "      <td>1.000242</td>\n",
       "      <td>0.992799</td>\n",
       "      <td>1.010404</td>\n",
       "      <td>1.004778</td>\n",
       "      <td>1.009606</td>\n",
       "    </tr>\n",
       "    <tr>\n",
       "      <th>2</th>\n",
       "      <td>0.983807</td>\n",
       "      <td>1.001918</td>\n",
       "      <td>0.992377</td>\n",
       "      <td>0.980065</td>\n",
       "      <td>0.996011</td>\n",
       "      <td>0.977831</td>\n",
       "      <td>0.998294</td>\n",
       "      <td>1.007572</td>\n",
       "      <td>0.991027</td>\n",
       "      <td>1.000022</td>\n",
       "      <td>...</td>\n",
       "      <td>0.990154</td>\n",
       "      <td>1.011199</td>\n",
       "      <td>0.999236</td>\n",
       "      <td>0.984454</td>\n",
       "      <td>0.976968</td>\n",
       "      <td>1.000528</td>\n",
       "      <td>0.989665</td>\n",
       "      <td>1.025645</td>\n",
       "      <td>0.999011</td>\n",
       "      <td>1.012035</td>\n",
       "    </tr>\n",
       "    <tr>\n",
       "      <th>3</th>\n",
       "      <td>0.991130</td>\n",
       "      <td>0.986459</td>\n",
       "      <td>0.977094</td>\n",
       "      <td>0.972424</td>\n",
       "      <td>0.992539</td>\n",
       "      <td>0.976265</td>\n",
       "      <td>1.011497</td>\n",
       "      <td>1.001912</td>\n",
       "      <td>0.991962</td>\n",
       "      <td>1.006806</td>\n",
       "      <td>...</td>\n",
       "      <td>0.996577</td>\n",
       "      <td>1.003047</td>\n",
       "      <td>1.007666</td>\n",
       "      <td>0.992104</td>\n",
       "      <td>0.966848</td>\n",
       "      <td>1.005647</td>\n",
       "      <td>0.992053</td>\n",
       "      <td>1.026980</td>\n",
       "      <td>0.996903</td>\n",
       "      <td>1.008005</td>\n",
       "    </tr>\n",
       "    <tr>\n",
       "      <th>4</th>\n",
       "      <td>0.983422</td>\n",
       "      <td>0.987306</td>\n",
       "      <td>0.984378</td>\n",
       "      <td>0.975151</td>\n",
       "      <td>0.983849</td>\n",
       "      <td>0.975949</td>\n",
       "      <td>1.011035</td>\n",
       "      <td>1.002342</td>\n",
       "      <td>0.986773</td>\n",
       "      <td>1.002428</td>\n",
       "      <td>...</td>\n",
       "      <td>0.991476</td>\n",
       "      <td>0.984962</td>\n",
       "      <td>1.009538</td>\n",
       "      <td>0.992561</td>\n",
       "      <td>0.985543</td>\n",
       "      <td>1.017529</td>\n",
       "      <td>1.003173</td>\n",
       "      <td>1.027816</td>\n",
       "      <td>0.999011</td>\n",
       "      <td>0.999020</td>\n",
       "    </tr>\n",
       "    <tr>\n",
       "      <th>...</th>\n",
       "      <td>...</td>\n",
       "      <td>...</td>\n",
       "      <td>...</td>\n",
       "      <td>...</td>\n",
       "      <td>...</td>\n",
       "      <td>...</td>\n",
       "      <td>...</td>\n",
       "      <td>...</td>\n",
       "      <td>...</td>\n",
       "      <td>...</td>\n",
       "      <td>...</td>\n",
       "      <td>...</td>\n",
       "      <td>...</td>\n",
       "      <td>...</td>\n",
       "      <td>...</td>\n",
       "      <td>...</td>\n",
       "      <td>...</td>\n",
       "      <td>...</td>\n",
       "      <td>...</td>\n",
       "      <td>...</td>\n",
       "      <td>...</td>\n",
       "    </tr>\n",
       "    <tr>\n",
       "      <th>7556</th>\n",
       "      <td>15.707737</td>\n",
       "      <td>15.783162</td>\n",
       "      <td>22.135775</td>\n",
       "      <td>8.676329</td>\n",
       "      <td>10.483720</td>\n",
       "      <td>48.135823</td>\n",
       "      <td>11.658652</td>\n",
       "      <td>20.466794</td>\n",
       "      <td>40.954931</td>\n",
       "      <td>11.311734</td>\n",
       "      <td>...</td>\n",
       "      <td>6.682515</td>\n",
       "      <td>4.414020</td>\n",
       "      <td>8.060133</td>\n",
       "      <td>8.075571</td>\n",
       "      <td>41.198414</td>\n",
       "      <td>17.091845</td>\n",
       "      <td>8.628759</td>\n",
       "      <td>14.436522</td>\n",
       "      <td>8.689555</td>\n",
       "      <td>10.921893</td>\n",
       "    </tr>\n",
       "    <tr>\n",
       "      <th>7557</th>\n",
       "      <td>15.642705</td>\n",
       "      <td>16.010548</td>\n",
       "      <td>22.168968</td>\n",
       "      <td>8.660247</td>\n",
       "      <td>10.365201</td>\n",
       "      <td>47.785806</td>\n",
       "      <td>11.820667</td>\n",
       "      <td>20.610607</td>\n",
       "      <td>40.760121</td>\n",
       "      <td>11.286264</td>\n",
       "      <td>...</td>\n",
       "      <td>6.796814</td>\n",
       "      <td>4.395194</td>\n",
       "      <td>8.123013</td>\n",
       "      <td>8.104181</td>\n",
       "      <td>40.436059</td>\n",
       "      <td>17.080556</td>\n",
       "      <td>8.612814</td>\n",
       "      <td>14.169328</td>\n",
       "      <td>8.624240</td>\n",
       "      <td>10.930177</td>\n",
       "    </tr>\n",
       "    <tr>\n",
       "      <th>7558</th>\n",
       "      <td>15.702023</td>\n",
       "      <td>15.908365</td>\n",
       "      <td>22.195956</td>\n",
       "      <td>8.663467</td>\n",
       "      <td>10.377176</td>\n",
       "      <td>46.907585</td>\n",
       "      <td>11.842564</td>\n",
       "      <td>20.281186</td>\n",
       "      <td>40.720650</td>\n",
       "      <td>11.198874</td>\n",
       "      <td>...</td>\n",
       "      <td>6.763034</td>\n",
       "      <td>4.424121</td>\n",
       "      <td>8.129515</td>\n",
       "      <td>8.195978</td>\n",
       "      <td>39.830268</td>\n",
       "      <td>16.987605</td>\n",
       "      <td>8.630605</td>\n",
       "      <td>14.186395</td>\n",
       "      <td>8.678693</td>\n",
       "      <td>10.976319</td>\n",
       "    </tr>\n",
       "    <tr>\n",
       "      <th>7559</th>\n",
       "      <td>15.667142</td>\n",
       "      <td>15.849878</td>\n",
       "      <td>21.972219</td>\n",
       "      <td>8.741818</td>\n",
       "      <td>10.449454</td>\n",
       "      <td>46.958785</td>\n",
       "      <td>11.753357</td>\n",
       "      <td>20.163965</td>\n",
       "      <td>40.704642</td>\n",
       "      <td>11.058246</td>\n",
       "      <td>...</td>\n",
       "      <td>6.801773</td>\n",
       "      <td>4.452315</td>\n",
       "      <td>8.043693</td>\n",
       "      <td>8.211469</td>\n",
       "      <td>39.899015</td>\n",
       "      <td>16.761563</td>\n",
       "      <td>8.678929</td>\n",
       "      <td>14.271618</td>\n",
       "      <td>8.828024</td>\n",
       "      <td>11.108612</td>\n",
       "    </tr>\n",
       "    <tr>\n",
       "      <th>7560</th>\n",
       "      <td>15.612741</td>\n",
       "      <td>15.721121</td>\n",
       "      <td>21.737702</td>\n",
       "      <td>8.739400</td>\n",
       "      <td>10.461287</td>\n",
       "      <td>47.545150</td>\n",
       "      <td>12.057060</td>\n",
       "      <td>20.005760</td>\n",
       "      <td>40.886631</td>\n",
       "      <td>11.045244</td>\n",
       "      <td>...</td>\n",
       "      <td>6.907781</td>\n",
       "      <td>4.535749</td>\n",
       "      <td>7.984680</td>\n",
       "      <td>8.195945</td>\n",
       "      <td>39.379758</td>\n",
       "      <td>16.884100</td>\n",
       "      <td>8.661126</td>\n",
       "      <td>14.237225</td>\n",
       "      <td>8.749513</td>\n",
       "      <td>11.173623</td>\n",
       "    </tr>\n",
       "  </tbody>\n",
       "</table>\n",
       "<p>7561 rows × 500 columns</p>\n",
       "</div>"
      ],
      "text/plain": [
       "            0          1          2         3          4          5    \\\n",
       "0      1.000000   1.000000   1.000000  1.000000   1.000000   1.000000   \n",
       "1      0.991788   1.000509   0.992614  0.986817   0.996701   0.987915   \n",
       "2      0.983807   1.001918   0.992377  0.980065   0.996011   0.977831   \n",
       "3      0.991130   0.986459   0.977094  0.972424   0.992539   0.976265   \n",
       "4      0.983422   0.987306   0.984378  0.975151   0.983849   0.975949   \n",
       "...         ...        ...        ...       ...        ...        ...   \n",
       "7556  15.707737  15.783162  22.135775  8.676329  10.483720  48.135823   \n",
       "7557  15.642705  16.010548  22.168968  8.660247  10.365201  47.785806   \n",
       "7558  15.702023  15.908365  22.195956  8.663467  10.377176  46.907585   \n",
       "7559  15.667142  15.849878  21.972219  8.741818  10.449454  46.958785   \n",
       "7560  15.612741  15.721121  21.737702  8.739400  10.461287  47.545150   \n",
       "\n",
       "            6          7          8          9    ...       490       491  \\\n",
       "0      1.000000   1.000000   1.000000   1.000000  ...  1.000000  1.000000   \n",
       "1      0.998080   0.999120   1.005569   1.003888  ...  0.999521  1.005271   \n",
       "2      0.998294   1.007572   0.991027   1.000022  ...  0.990154  1.011199   \n",
       "3      1.011497   1.001912   0.991962   1.006806  ...  0.996577  1.003047   \n",
       "4      1.011035   1.002342   0.986773   1.002428  ...  0.991476  0.984962   \n",
       "...         ...        ...        ...        ...  ...       ...       ...   \n",
       "7556  11.658652  20.466794  40.954931  11.311734  ...  6.682515  4.414020   \n",
       "7557  11.820667  20.610607  40.760121  11.286264  ...  6.796814  4.395194   \n",
       "7558  11.842564  20.281186  40.720650  11.198874  ...  6.763034  4.424121   \n",
       "7559  11.753357  20.163965  40.704642  11.058246  ...  6.801773  4.452315   \n",
       "7560  12.057060  20.005760  40.886631  11.045244  ...  6.907781  4.535749   \n",
       "\n",
       "           492       493        494        495       496        497       498  \\\n",
       "0     1.000000  1.000000   1.000000   1.000000  1.000000   1.000000  1.000000   \n",
       "1     0.999875  0.996030   0.989129   1.000242  0.992799   1.010404  1.004778   \n",
       "2     0.999236  0.984454   0.976968   1.000528  0.989665   1.025645  0.999011   \n",
       "3     1.007666  0.992104   0.966848   1.005647  0.992053   1.026980  0.996903   \n",
       "4     1.009538  0.992561   0.985543   1.017529  1.003173   1.027816  0.999011   \n",
       "...        ...       ...        ...        ...       ...        ...       ...   \n",
       "7556  8.060133  8.075571  41.198414  17.091845  8.628759  14.436522  8.689555   \n",
       "7557  8.123013  8.104181  40.436059  17.080556  8.612814  14.169328  8.624240   \n",
       "7558  8.129515  8.195978  39.830268  16.987605  8.630605  14.186395  8.678693   \n",
       "7559  8.043693  8.211469  39.899015  16.761563  8.678929  14.271618  8.828024   \n",
       "7560  7.984680  8.195945  39.379758  16.884100  8.661126  14.237225  8.749513   \n",
       "\n",
       "            499  \n",
       "0      1.000000  \n",
       "1      1.009606  \n",
       "2      1.012035  \n",
       "3      1.008005  \n",
       "4      0.999020  \n",
       "...         ...  \n",
       "7556  10.921893  \n",
       "7557  10.930177  \n",
       "7558  10.976319  \n",
       "7559  11.108612  \n",
       "7560  11.173623  \n",
       "\n",
       "[7561 rows x 500 columns]"
      ]
     },
     "execution_count": 20,
     "metadata": {},
     "output_type": "execute_result"
    }
   ],
   "source": [
    "# Running a Monte Carlo simulation to forecast 30 years cumulative returns\n",
    "mc_forecast.calc_cumulative_return()"
   ]
  },
  {
   "cell_type": "code",
   "execution_count": 21,
   "metadata": {},
   "outputs": [
    {
     "data": {
      "image/png": "[encoded data removed]",
      "text/plain": [
       "<Figure size 432x288 with 1 Axes>"
      ]
     },
     "metadata": {
      "needs_background": "light"
     },
     "output_type": "display_data"
    }
   ],
   "source": [
    "# Plot simulation outcomes\n",
    "mc_plot = mc_forecast.plot_simulation()"
   ]
  },
  {
   "cell_type": "code",
   "execution_count": 22,
   "metadata": {},
   "outputs": [
    {
     "data": {
      "image/png": "[encoded data removed]",
      "text/plain": [
       "<Figure size 432x288 with 1 Axes>"
      ]
     },
     "metadata": {
      "needs_background": "light"
     },
     "output_type": "display_data"
    }
   ],
   "source": [
    "# Plot probability distribution and confidence intervals\n",
    "mc_dist = mc_forecast.plot_distribution()"
   ]
  },
  {
   "cell_type": "markdown",
   "metadata": {},
   "source": [
    "### Retirement Analysis"
   ]
  },
  {
   "cell_type": "code",
   "execution_count": 23,
   "metadata": {},
   "outputs": [
    {
     "name": "stdout",
     "output_type": "stream",
     "text": [
      "count           500.000000\n",
      "mean             23.695729\n",
      "std              18.071604\n",
      "min               2.388227\n",
      "25%              11.306431\n",
      "50%              18.813796\n",
      "75%              30.874681\n",
      "max             134.987343\n",
      "95% CI Lower      4.490525\n",
      "95% CI Upper     69.697842\n",
      "Name: 7560, dtype: float64\n"
     ]
    }
   ],
   "source": [
    "# Fetch summary statistics from the Monte Carlo simulation results\n",
    "mc_summary = mc_forecast.summarize_cumulative_return()\n",
    "\n",
    "# Print summary statistics\n",
    "print(mc_summary)"
   ]
  },
  {
   "cell_type": "markdown",
   "metadata": {},
   "source": [
    "### Calculate the expected portfolio return at the `95%` lower and upper confidence intervals based on a `$20,000` initial investment."
   ]
  },
  {
   "cell_type": "code",
   "execution_count": 24,
   "metadata": {},
   "outputs": [
    {
     "name": "stdout",
     "output_type": "stream",
     "text": [
      "There is a 95% chance that an initial investment of $20,000.00 in the portfolio over the next 30 years will end within the range of $89,810.51 and $1,393,956.84.\n"
     ]
    }
   ],
   "source": [
    "# Set initial investment\n",
    "initial_investment = 20000\n",
    "\n",
    "# Use the lower and upper `95%` confidence intervals to calculate the range of the possible outcomes of our $20,000\n",
    "ci_lower = round(mc_summary[8] * initial_investment,2)\n",
    "ci_upper = round(mc_summary[9] * initial_investment,2)\n",
    "\n",
    "# Print results\n",
    "print(f\"There is a 95% chance that an initial investment of ${initial_investment:,.2f}\"\n",
    "      f\" in the portfolio over the next 30 years will end within the\"\n",
    "      f\" range of ${ci_lower:,} and ${ci_upper:,}.\")"
   ]
  },
  {
   "cell_type": "markdown",
   "metadata": {},
   "source": [
    "### Calculate the expected portfolio return at the `95%` lower and upper confidence intervals based on a `50%` increase in the initial investment."
   ]
  },
  {
   "cell_type": "code",
   "execution_count": 25,
   "metadata": {},
   "outputs": [
    {
     "name": "stdout",
     "output_type": "stream",
     "text": [
      "There is a 95% chance that an initial investment of $30,000.00 in the portfolio over the next 30 years will end within in the range of $134,715.76 and $2,090,935.26\n"
     ]
    }
   ],
   "source": [
    "# Set initial investment\n",
    "initial_investment = 20000 * 1.5\n",
    "\n",
    "# Use the lower and upper `95%` confidence intervals to calculate the range of the possible outcomes of our $30,000\n",
    "ci_lower = round(mc_summary[8] * initial_investment,2)\n",
    "ci_upper = round(mc_summary[9] * initial_investment,2)\n",
    "\n",
    "# Print results\n",
    "print(f\"There is a 95% chance that an initial investment of ${initial_investment:,.2f} in the portfolio\"\n",
    "      f\" over the next 30 years will end within in the range of\"\n",
    "      f\" ${ci_lower:,} and ${ci_upper:,}\")"
   ]
  },
  {
   "cell_type": "markdown",
   "metadata": {},
   "source": [
    "## Optional Challenge - Early Retirement"
   ]
  },
  {
   "cell_type": "markdown",
   "metadata": {},
   "source": [
    "### Functions"
   ]
  },
  {
   "cell_type": "code",
   "execution_count": 26,
   "metadata": {},
   "outputs": [],
   "source": [
    "# Variable representing number of years until retirement\n",
    "# years = 0\n",
    "\n",
    "# Configure MCSimulation to forecast cumulative returns after specified number of years\n",
    "# The percentage split of `stocks` and `bonds` should be entered as decimals, and the sum should equal 1\n",
    "def mc_sim(stocks, bonds, years):\n",
    "    return MCSimulation(\n",
    "        portfolio_data = df_stock_data,\n",
    "        weights = [stocks, bonds],\n",
    "        num_simulation = 500,\n",
    "        num_trading_days = 252 * int(years)\n",
    "    )\n",
    "\n",
    "# forecast = mc_sim(.4, .6, 5)\n",
    "# forecast"
   ]
  },
  {
   "cell_type": "code",
   "execution_count": null,
   "metadata": {},
   "outputs": [],
   "source": [
    "# forecast.portfolio_data.head()"
   ]
  },
  {
   "cell_type": "code",
   "execution_count": 27,
   "metadata": {},
   "outputs": [],
   "source": [
    "# forecast.calc_cumulative_return()"
   ]
  },
  {
   "cell_type": "code",
   "execution_count": null,
   "metadata": {},
   "outputs": [],
   "source": [
    "# forecast.plot_simulation()"
   ]
  },
  {
   "cell_type": "code",
   "execution_count": null,
   "metadata": {},
   "outputs": [],
   "source": [
    "# forecast.plot_distribution()"
   ]
  },
  {
   "cell_type": "code",
   "execution_count": null,
   "metadata": {},
   "outputs": [],
   "source": [
    "# summary = forecast.summarize_cumulative_return()\n",
    "# summary"
   ]
  },
  {
   "cell_type": "code",
   "execution_count": 28,
   "metadata": {},
   "outputs": [],
   "source": [
    "# Calculate expected portfolio return at the 95% lower and upper confidence intervals\n",
    "# Function takes parameters for number of `years`, `summary` for that time frame, and `initial_investment` amount\n",
    "def confidence(years, summary, initial):\n",
    "    ci_lower = round(summary[8] * initial,2)\n",
    "    ci_upper = round(summary[9] * initial,2)\n",
    "    \n",
    "    print(f\"There is a 95% chance that an initial investment of ${initial:,.2f}\"\n",
    "          f\" in the portfolio over the next {years} years will end within the\"\n",
    "          f\" range of ${ci_lower:,} and ${ci_upper:,}.\")\n",
    "\n",
    "# confidence(5, summary, 20000)"
   ]
  },
  {
   "cell_type": "code",
   "execution_count": 29,
   "metadata": {},
   "outputs": [],
   "source": [
    "# Calculate the expected portfolio return at the 95% lower and upper confidence intervals based on a 50% increase in the initial investment\n",
    "# Same parameters as above, plus the decimal `rate` the initial investment is multiplied by (e.g. `rate` of 1.5 = 50% increase)\n",
    "def inc_confidence(years, summary, initial, rate):\n",
    "    inc_investment = initial * rate\n",
    "    ci_lower = round(summary[8] * inc_investment,2)\n",
    "    ci_upper = round(summary[9] * inc_investment,2)\n",
    "    \n",
    "    print(f\"There is a 95% chance that an initial investment of ${inc_investment:,.2f}\"\n",
    "          f\" in the portfolio over the next {years} years will end within the\"\n",
    "          f\" range of ${ci_lower:,} and ${ci_upper:,}.\")\n",
    "\n",
    "# inc_confidence(5, summary, 20000, 1.5)"
   ]
  },
  {
   "cell_type": "markdown",
   "metadata": {},
   "source": [
    "### Five Year Retirement Option"
   ]
  },
  {
   "cell_type": "code",
   "execution_count": 30,
   "metadata": {},
   "outputs": [],
   "source": [
    "# Configuring a Monte Carlo simulation to forecast 5 years cumulative returns, with 40% stocks and 60% bonds\n",
    "forecast_5y = mc_sim(.4, .6, 5)"
   ]
  },
  {
   "cell_type": "code",
   "execution_count": 31,
   "metadata": {},
   "outputs": [
    {
     "name": "stdout",
     "output_type": "stream",
     "text": [
      "Running Monte Carlo simulation number 0.\n",
      "Running Monte Carlo simulation number 10.\n",
      "Running Monte Carlo simulation number 20.\n",
      "Running Monte Carlo simulation number 30.\n",
      "Running Monte Carlo simulation number 40.\n",
      "Running Monte Carlo simulation number 50.\n",
      "Running Monte Carlo simulation number 60.\n",
      "Running Monte Carlo simulation number 70.\n",
      "Running Monte Carlo simulation number 80.\n",
      "Running Monte Carlo simulation number 90.\n",
      "Running Monte Carlo simulation number 100.\n"
     ]
    },
    {
     "name": "stderr",
     "output_type": "stream",
     "text": [
      "d:\\Saru\\Documents\\Bootcamp\\bcs-assignments\\homework\\bcs-hw5-APIs\\Starter_Code\\MCForecastTools.py:117: PerformanceWarning:\n",
      "\n",
      "DataFrame is highly fragmented.  This is usually the result of calling `frame.insert` many times, which has poor performance.  Consider joining all columns at once using pd.concat(axis=1) instead.  To get a de-fragmented frame, use `newframe = frame.copy()`\n",
      "\n"
     ]
    },
    {
     "name": "stdout",
     "output_type": "stream",
     "text": [
      "Running Monte Carlo simulation number 110.\n",
      "Running Monte Carlo simulation number 120.\n",
      "Running Monte Carlo simulation number 130.\n",
      "Running Monte Carlo simulation number 140.\n",
      "Running Monte Carlo simulation number 150.\n",
      "Running Monte Carlo simulation number 160.\n",
      "Running Monte Carlo simulation number 170.\n",
      "Running Monte Carlo simulation number 180.\n",
      "Running Monte Carlo simulation number 190.\n",
      "Running Monte Carlo simulation number 200.\n",
      "Running Monte Carlo simulation number 210.\n",
      "Running Monte Carlo simulation number 220.\n",
      "Running Monte Carlo simulation number 230.\n",
      "Running Monte Carlo simulation number 240.\n",
      "Running Monte Carlo simulation number 250.\n",
      "Running Monte Carlo simulation number 260.\n",
      "Running Monte Carlo simulation number 270.\n",
      "Running Monte Carlo simulation number 280.\n",
      "Running Monte Carlo simulation number 290.\n",
      "Running Monte Carlo simulation number 300.\n",
      "Running Monte Carlo simulation number 310.\n",
      "Running Monte Carlo simulation number 320.\n",
      "Running Monte Carlo simulation number 330.\n",
      "Running Monte Carlo simulation number 340.\n",
      "Running Monte Carlo simulation number 350.\n",
      "Running Monte Carlo simulation number 360.\n",
      "Running Monte Carlo simulation number 370.\n",
      "Running Monte Carlo simulation number 380.\n",
      "Running Monte Carlo simulation number 390.\n",
      "Running Monte Carlo simulation number 400.\n",
      "Running Monte Carlo simulation number 410.\n",
      "Running Monte Carlo simulation number 420.\n",
      "Running Monte Carlo simulation number 430.\n",
      "Running Monte Carlo simulation number 440.\n",
      "Running Monte Carlo simulation number 450.\n",
      "Running Monte Carlo simulation number 460.\n",
      "Running Monte Carlo simulation number 470.\n",
      "Running Monte Carlo simulation number 480.\n",
      "Running Monte Carlo simulation number 490.\n"
     ]
    },
    {
     "data": {
      "text/html": [
       "<div>\n",
       "<style scoped>\n",
       "    .dataframe tbody tr th:only-of-type {\n",
       "        vertical-align: middle;\n",
       "    }\n",
       "\n",
       "    .dataframe tbody tr th {\n",
       "        vertical-align: top;\n",
       "    }\n",
       "\n",
       "    .dataframe thead th {\n",
       "        text-align: right;\n",
       "    }\n",
       "</style>\n",
       "<table border=\"1\" class=\"dataframe\">\n",
       "  <thead>\n",
       "    <tr style=\"text-align: right;\">\n",
       "      <th></th>\n",
       "      <th>0</th>\n",
       "      <th>1</th>\n",
       "      <th>2</th>\n",
       "      <th>3</th>\n",
       "      <th>4</th>\n",
       "      <th>5</th>\n",
       "      <th>6</th>\n",
       "      <th>7</th>\n",
       "      <th>8</th>\n",
       "      <th>9</th>\n",
       "      <th>...</th>\n",
       "      <th>490</th>\n",
       "      <th>491</th>\n",
       "      <th>492</th>\n",
       "      <th>493</th>\n",
       "      <th>494</th>\n",
       "      <th>495</th>\n",
       "      <th>496</th>\n",
       "      <th>497</th>\n",
       "      <th>498</th>\n",
       "      <th>499</th>\n",
       "    </tr>\n",
       "  </thead>\n",
       "  <tbody>\n",
       "    <tr>\n",
       "      <th>0</th>\n",
       "      <td>1.000000</td>\n",
       "      <td>1.000000</td>\n",
       "      <td>1.000000</td>\n",
       "      <td>1.000000</td>\n",
       "      <td>1.000000</td>\n",
       "      <td>1.000000</td>\n",
       "      <td>1.000000</td>\n",
       "      <td>1.000000</td>\n",
       "      <td>1.000000</td>\n",
       "      <td>1.000000</td>\n",
       "      <td>...</td>\n",
       "      <td>1.000000</td>\n",
       "      <td>1.000000</td>\n",
       "      <td>1.000000</td>\n",
       "      <td>1.000000</td>\n",
       "      <td>1.000000</td>\n",
       "      <td>1.000000</td>\n",
       "      <td>1.000000</td>\n",
       "      <td>1.000000</td>\n",
       "      <td>1.000000</td>\n",
       "      <td>1.000000</td>\n",
       "    </tr>\n",
       "    <tr>\n",
       "      <th>1</th>\n",
       "      <td>1.007034</td>\n",
       "      <td>0.995537</td>\n",
       "      <td>1.008383</td>\n",
       "      <td>0.994525</td>\n",
       "      <td>0.998611</td>\n",
       "      <td>0.992599</td>\n",
       "      <td>1.011485</td>\n",
       "      <td>1.000591</td>\n",
       "      <td>0.999262</td>\n",
       "      <td>1.001044</td>\n",
       "      <td>...</td>\n",
       "      <td>0.995743</td>\n",
       "      <td>1.011399</td>\n",
       "      <td>1.008520</td>\n",
       "      <td>0.996260</td>\n",
       "      <td>1.003912</td>\n",
       "      <td>0.996396</td>\n",
       "      <td>1.014507</td>\n",
       "      <td>0.992147</td>\n",
       "      <td>1.006797</td>\n",
       "      <td>0.983759</td>\n",
       "    </tr>\n",
       "    <tr>\n",
       "      <th>2</th>\n",
       "      <td>1.004682</td>\n",
       "      <td>1.000754</td>\n",
       "      <td>1.017261</td>\n",
       "      <td>0.991428</td>\n",
       "      <td>0.991276</td>\n",
       "      <td>0.999251</td>\n",
       "      <td>1.024980</td>\n",
       "      <td>1.015828</td>\n",
       "      <td>0.992281</td>\n",
       "      <td>0.994644</td>\n",
       "      <td>...</td>\n",
       "      <td>0.994146</td>\n",
       "      <td>1.009328</td>\n",
       "      <td>1.003764</td>\n",
       "      <td>1.002827</td>\n",
       "      <td>1.006367</td>\n",
       "      <td>0.986157</td>\n",
       "      <td>1.012161</td>\n",
       "      <td>0.988659</td>\n",
       "      <td>1.003692</td>\n",
       "      <td>0.988869</td>\n",
       "    </tr>\n",
       "    <tr>\n",
       "      <th>3</th>\n",
       "      <td>1.004289</td>\n",
       "      <td>1.006253</td>\n",
       "      <td>1.018963</td>\n",
       "      <td>0.992217</td>\n",
       "      <td>0.998691</td>\n",
       "      <td>1.005198</td>\n",
       "      <td>1.009594</td>\n",
       "      <td>1.004295</td>\n",
       "      <td>0.988428</td>\n",
       "      <td>0.988272</td>\n",
       "      <td>...</td>\n",
       "      <td>0.982104</td>\n",
       "      <td>1.019247</td>\n",
       "      <td>1.008091</td>\n",
       "      <td>0.992489</td>\n",
       "      <td>1.012497</td>\n",
       "      <td>0.990924</td>\n",
       "      <td>1.004633</td>\n",
       "      <td>0.993617</td>\n",
       "      <td>0.999209</td>\n",
       "      <td>0.986424</td>\n",
       "    </tr>\n",
       "    <tr>\n",
       "      <th>4</th>\n",
       "      <td>1.015514</td>\n",
       "      <td>1.001171</td>\n",
       "      <td>1.015999</td>\n",
       "      <td>0.988790</td>\n",
       "      <td>0.994530</td>\n",
       "      <td>0.986166</td>\n",
       "      <td>1.003992</td>\n",
       "      <td>1.006015</td>\n",
       "      <td>0.981992</td>\n",
       "      <td>0.998391</td>\n",
       "      <td>...</td>\n",
       "      <td>0.980489</td>\n",
       "      <td>1.024181</td>\n",
       "      <td>1.003157</td>\n",
       "      <td>0.990300</td>\n",
       "      <td>1.035347</td>\n",
       "      <td>0.987127</td>\n",
       "      <td>1.012243</td>\n",
       "      <td>0.983268</td>\n",
       "      <td>1.014716</td>\n",
       "      <td>0.994387</td>\n",
       "    </tr>\n",
       "    <tr>\n",
       "      <th>...</th>\n",
       "      <td>...</td>\n",
       "      <td>...</td>\n",
       "      <td>...</td>\n",
       "      <td>...</td>\n",
       "      <td>...</td>\n",
       "      <td>...</td>\n",
       "      <td>...</td>\n",
       "      <td>...</td>\n",
       "      <td>...</td>\n",
       "      <td>...</td>\n",
       "      <td>...</td>\n",
       "      <td>...</td>\n",
       "      <td>...</td>\n",
       "      <td>...</td>\n",
       "      <td>...</td>\n",
       "      <td>...</td>\n",
       "      <td>...</td>\n",
       "      <td>...</td>\n",
       "      <td>...</td>\n",
       "      <td>...</td>\n",
       "      <td>...</td>\n",
       "    </tr>\n",
       "    <tr>\n",
       "      <th>1256</th>\n",
       "      <td>0.935666</td>\n",
       "      <td>2.392895</td>\n",
       "      <td>2.065444</td>\n",
       "      <td>1.132314</td>\n",
       "      <td>1.501620</td>\n",
       "      <td>1.880397</td>\n",
       "      <td>1.518491</td>\n",
       "      <td>1.719702</td>\n",
       "      <td>1.331590</td>\n",
       "      <td>1.951660</td>\n",
       "      <td>...</td>\n",
       "      <td>1.739384</td>\n",
       "      <td>1.120487</td>\n",
       "      <td>1.461898</td>\n",
       "      <td>2.412563</td>\n",
       "      <td>1.312667</td>\n",
       "      <td>1.279273</td>\n",
       "      <td>1.182314</td>\n",
       "      <td>0.913467</td>\n",
       "      <td>1.466617</td>\n",
       "      <td>1.240992</td>\n",
       "    </tr>\n",
       "    <tr>\n",
       "      <th>1257</th>\n",
       "      <td>0.937058</td>\n",
       "      <td>2.404752</td>\n",
       "      <td>2.065832</td>\n",
       "      <td>1.104477</td>\n",
       "      <td>1.489838</td>\n",
       "      <td>1.904763</td>\n",
       "      <td>1.521053</td>\n",
       "      <td>1.721758</td>\n",
       "      <td>1.331528</td>\n",
       "      <td>1.948655</td>\n",
       "      <td>...</td>\n",
       "      <td>1.739240</td>\n",
       "      <td>1.126786</td>\n",
       "      <td>1.446613</td>\n",
       "      <td>2.409957</td>\n",
       "      <td>1.316734</td>\n",
       "      <td>1.282740</td>\n",
       "      <td>1.186724</td>\n",
       "      <td>0.915461</td>\n",
       "      <td>1.456536</td>\n",
       "      <td>1.246699</td>\n",
       "    </tr>\n",
       "    <tr>\n",
       "      <th>1258</th>\n",
       "      <td>0.939193</td>\n",
       "      <td>2.402757</td>\n",
       "      <td>2.074147</td>\n",
       "      <td>1.115588</td>\n",
       "      <td>1.501934</td>\n",
       "      <td>1.898903</td>\n",
       "      <td>1.517026</td>\n",
       "      <td>1.715081</td>\n",
       "      <td>1.333371</td>\n",
       "      <td>1.965684</td>\n",
       "      <td>...</td>\n",
       "      <td>1.736454</td>\n",
       "      <td>1.140763</td>\n",
       "      <td>1.451737</td>\n",
       "      <td>2.397253</td>\n",
       "      <td>1.319380</td>\n",
       "      <td>1.286449</td>\n",
       "      <td>1.184214</td>\n",
       "      <td>0.913784</td>\n",
       "      <td>1.471392</td>\n",
       "      <td>1.240731</td>\n",
       "    </tr>\n",
       "    <tr>\n",
       "      <th>1259</th>\n",
       "      <td>0.928308</td>\n",
       "      <td>2.396350</td>\n",
       "      <td>2.079414</td>\n",
       "      <td>1.120947</td>\n",
       "      <td>1.509443</td>\n",
       "      <td>1.884741</td>\n",
       "      <td>1.517930</td>\n",
       "      <td>1.713058</td>\n",
       "      <td>1.337294</td>\n",
       "      <td>1.974702</td>\n",
       "      <td>...</td>\n",
       "      <td>1.757027</td>\n",
       "      <td>1.152458</td>\n",
       "      <td>1.454825</td>\n",
       "      <td>2.378457</td>\n",
       "      <td>1.312571</td>\n",
       "      <td>1.306560</td>\n",
       "      <td>1.184645</td>\n",
       "      <td>0.912717</td>\n",
       "      <td>1.465313</td>\n",
       "      <td>1.237123</td>\n",
       "    </tr>\n",
       "    <tr>\n",
       "      <th>1260</th>\n",
       "      <td>0.939163</td>\n",
       "      <td>2.405370</td>\n",
       "      <td>2.083583</td>\n",
       "      <td>1.126651</td>\n",
       "      <td>1.501635</td>\n",
       "      <td>1.866989</td>\n",
       "      <td>1.515931</td>\n",
       "      <td>1.713829</td>\n",
       "      <td>1.332360</td>\n",
       "      <td>1.983897</td>\n",
       "      <td>...</td>\n",
       "      <td>1.777950</td>\n",
       "      <td>1.153374</td>\n",
       "      <td>1.446798</td>\n",
       "      <td>2.364863</td>\n",
       "      <td>1.311230</td>\n",
       "      <td>1.324896</td>\n",
       "      <td>1.182399</td>\n",
       "      <td>0.901043</td>\n",
       "      <td>1.450458</td>\n",
       "      <td>1.242921</td>\n",
       "    </tr>\n",
       "  </tbody>\n",
       "</table>\n",
       "<p>1261 rows × 500 columns</p>\n",
       "</div>"
      ],
      "text/plain": [
       "           0         1         2         3         4         5         6    \\\n",
       "0     1.000000  1.000000  1.000000  1.000000  1.000000  1.000000  1.000000   \n",
       "1     1.007034  0.995537  1.008383  0.994525  0.998611  0.992599  1.011485   \n",
       "2     1.004682  1.000754  1.017261  0.991428  0.991276  0.999251  1.024980   \n",
       "3     1.004289  1.006253  1.018963  0.992217  0.998691  1.005198  1.009594   \n",
       "4     1.015514  1.001171  1.015999  0.988790  0.994530  0.986166  1.003992   \n",
       "...        ...       ...       ...       ...       ...       ...       ...   \n",
       "1256  0.935666  2.392895  2.065444  1.132314  1.501620  1.880397  1.518491   \n",
       "1257  0.937058  2.404752  2.065832  1.104477  1.489838  1.904763  1.521053   \n",
       "1258  0.939193  2.402757  2.074147  1.115588  1.501934  1.898903  1.517026   \n",
       "1259  0.928308  2.396350  2.079414  1.120947  1.509443  1.884741  1.517930   \n",
       "1260  0.939163  2.405370  2.083583  1.126651  1.501635  1.866989  1.515931   \n",
       "\n",
       "           7         8         9    ...       490       491       492  \\\n",
       "0     1.000000  1.000000  1.000000  ...  1.000000  1.000000  1.000000   \n",
       "1     1.000591  0.999262  1.001044  ...  0.995743  1.011399  1.008520   \n",
       "2     1.015828  0.992281  0.994644  ...  0.994146  1.009328  1.003764   \n",
       "3     1.004295  0.988428  0.988272  ...  0.982104  1.019247  1.008091   \n",
       "4     1.006015  0.981992  0.998391  ...  0.980489  1.024181  1.003157   \n",
       "...        ...       ...       ...  ...       ...       ...       ...   \n",
       "1256  1.719702  1.331590  1.951660  ...  1.739384  1.120487  1.461898   \n",
       "1257  1.721758  1.331528  1.948655  ...  1.739240  1.126786  1.446613   \n",
       "1258  1.715081  1.333371  1.965684  ...  1.736454  1.140763  1.451737   \n",
       "1259  1.713058  1.337294  1.974702  ...  1.757027  1.152458  1.454825   \n",
       "1260  1.713829  1.332360  1.983897  ...  1.777950  1.153374  1.446798   \n",
       "\n",
       "           493       494       495       496       497       498       499  \n",
       "0     1.000000  1.000000  1.000000  1.000000  1.000000  1.000000  1.000000  \n",
       "1     0.996260  1.003912  0.996396  1.014507  0.992147  1.006797  0.983759  \n",
       "2     1.002827  1.006367  0.986157  1.012161  0.988659  1.003692  0.988869  \n",
       "3     0.992489  1.012497  0.990924  1.004633  0.993617  0.999209  0.986424  \n",
       "4     0.990300  1.035347  0.987127  1.012243  0.983268  1.014716  0.994387  \n",
       "...        ...       ...       ...       ...       ...       ...       ...  \n",
       "1256  2.412563  1.312667  1.279273  1.182314  0.913467  1.466617  1.240992  \n",
       "1257  2.409957  1.316734  1.282740  1.186724  0.915461  1.456536  1.246699  \n",
       "1258  2.397253  1.319380  1.286449  1.184214  0.913784  1.471392  1.240731  \n",
       "1259  2.378457  1.312571  1.306560  1.184645  0.912717  1.465313  1.237123  \n",
       "1260  2.364863  1.311230  1.324896  1.182399  0.901043  1.450458  1.242921  \n",
       "\n",
       "[1261 rows x 500 columns]"
      ]
     },
     "execution_count": 31,
     "metadata": {},
     "output_type": "execute_result"
    }
   ],
   "source": [
    "# Running a Monte Carlo simulation to forecast 5 years cumulative returns\n",
    "forecast_5y.calc_cumulative_return()"
   ]
  },
  {
   "cell_type": "code",
   "execution_count": 32,
   "metadata": {},
   "outputs": [
    {
     "data": {
      "text/plain": [
       "<AxesSubplot:title={'center':'500 Simulations of Cumulative Portfolio Return Trajectories Over the Next 1260 Trading Days.'}>"
      ]
     },
     "execution_count": 32,
     "metadata": {},
     "output_type": "execute_result"
    },
    {
     "data": {
      "image/png": "[encoded data removed]",
      "text/plain": [
       "<Figure size 432x288 with 1 Axes>"
      ]
     },
     "metadata": {
      "needs_background": "light"
     },
     "output_type": "display_data"
    }
   ],
   "source": [
    "# Plot simulation outcomes\n",
    "forecast_5y.plot_simulation()"
   ]
  },
  {
   "cell_type": "code",
   "execution_count": 33,
   "metadata": {},
   "outputs": [
    {
     "data": {
      "text/plain": [
       "<AxesSubplot:title={'center':'Distribution of Final Cumuluative Returns Across All 500 Simulations'}, ylabel='Frequency'>"
      ]
     },
     "execution_count": 33,
     "metadata": {},
     "output_type": "execute_result"
    },
    {
     "data": {
      "image/png": "[encoded data removed]",
      "text/plain": [
       "<Figure size 432x288 with 1 Axes>"
      ]
     },
     "metadata": {
      "needs_background": "light"
     },
     "output_type": "display_data"
    }
   ],
   "source": [
    "# Plot probability distribution and confidence intervals\n",
    "forecast_5y.plot_distribution()"
   ]
  },
  {
   "cell_type": "code",
   "execution_count": 36,
   "metadata": {},
   "outputs": [
    {
     "data": {
      "text/plain": [
       "count           500.000000\n",
       "mean              1.665390\n",
       "std               0.472007\n",
       "min               0.577844\n",
       "25%               1.312453\n",
       "50%               1.599681\n",
       "75%               1.968054\n",
       "max               3.267069\n",
       "95% CI Lower      0.915824\n",
       "95% CI Upper      2.737993\n",
       "Name: 1260, dtype: float64"
      ]
     },
     "execution_count": 36,
     "metadata": {},
     "output_type": "execute_result"
    }
   ],
   "source": [
    "# Fetch summary statistics from the Monte Carlo simulation results\n",
    "summary_5y = forecast_5y.summarize_cumulative_return()\n",
    "\n",
    "# Print summary statistics\n",
    "summary_5y"
   ]
  },
  {
   "cell_type": "code",
   "execution_count": null,
   "metadata": {},
   "outputs": [],
   "source": [
    "# Set initial investment\n",
    "# YOUR CODE HERE!\n",
    "\n",
    "# Use the lower and upper `95%` confidence intervals to calculate the range of the possible outcomes of our $60,000\n",
    "# YOUR CODE HERE!\n",
    "\n",
    "# Print results\n",
    "# print(f\"There is a 95% chance that an initial investment of ${initial_investment:.2f} in the portfolio\"\n",
    "#       f\" over the next 5 years will end within in the range of\"\n",
    "#       f\" ${ci_lower_five} and ${ci_upper_five}\")"
   ]
  },
  {
   "cell_type": "code",
   "execution_count": 37,
   "metadata": {},
   "outputs": [
    {
     "name": "stdout",
     "output_type": "stream",
     "text": [
      "There is a 95% chance that an initial investment of $60,000.00 in the portfolio over the next 5 years will end within the range of $54,949.46 and $164,279.6.\n"
     ]
    }
   ],
   "source": [
    "# Expected portfolio return after five years with an initial investment of $60,000\n",
    "confidence(5, summary_5y, 60000)"
   ]
  },
  {
   "cell_type": "code",
   "execution_count": 38,
   "metadata": {},
   "outputs": [
    {
     "name": "stdout",
     "output_type": "stream",
     "text": [
      "There is a 95% chance that an initial investment of $30,000.00 in the portfolio over the next 5 years will end within the range of $27,474.73 and $82,139.8.\n"
     ]
    }
   ],
   "source": [
    "# Expected returns with a 50% increase to initial investment\n",
    "inc_confidence(5, summary_5y, 20000, 1.5)"
   ]
  },
  {
   "cell_type": "markdown",
   "metadata": {},
   "source": [
    "### Ten Years Retirement Option"
   ]
  },
  {
   "cell_type": "code",
   "execution_count": 39,
   "metadata": {},
   "outputs": [],
   "source": [
    "# Configuring a Monte Carlo simulation to forecast 10 years cumulative returns, with 60% stocks and 40% bonds\n",
    "forecast_10y = mc_sim(.6, .4, 10)"
   ]
  },
  {
   "cell_type": "code",
   "execution_count": 41,
   "metadata": {},
   "outputs": [
    {
     "name": "stdout",
     "output_type": "stream",
     "text": [
      "Running Monte Carlo simulation number 0.\n",
      "Running Monte Carlo simulation number 10.\n",
      "Running Monte Carlo simulation number 20.\n",
      "Running Monte Carlo simulation number 30.\n",
      "Running Monte Carlo simulation number 40.\n",
      "Running Monte Carlo simulation number 50.\n",
      "Running Monte Carlo simulation number 60.\n",
      "Running Monte Carlo simulation number 70.\n",
      "Running Monte Carlo simulation number 80.\n",
      "Running Monte Carlo simulation number 90.\n",
      "Running Monte Carlo simulation number 100.\n",
      "Running Monte Carlo simulation number 110.\n",
      "Running Monte Carlo simulation number 120.\n",
      "Running Monte Carlo simulation number 130.\n",
      "Running Monte Carlo simulation number 140.\n",
      "Running Monte Carlo simulation number 150.\n",
      "Running Monte Carlo simulation number 160.\n",
      "Running Monte Carlo simulation number 170.\n",
      "Running Monte Carlo simulation number 180.\n",
      "Running Monte Carlo simulation number 190.\n",
      "Running Monte Carlo simulation number 200.\n",
      "Running Monte Carlo simulation number 210.\n",
      "Running Monte Carlo simulation number 220.\n",
      "Running Monte Carlo simulation number 230.\n",
      "Running Monte Carlo simulation number 240.\n",
      "Running Monte Carlo simulation number 250.\n",
      "Running Monte Carlo simulation number 260.\n",
      "Running Monte Carlo simulation number 270.\n",
      "Running Monte Carlo simulation number 280.\n",
      "Running Monte Carlo simulation number 290.\n",
      "Running Monte Carlo simulation number 300.\n",
      "Running Monte Carlo simulation number 310.\n",
      "Running Monte Carlo simulation number 320.\n",
      "Running Monte Carlo simulation number 330.\n",
      "Running Monte Carlo simulation number 340.\n",
      "Running Monte Carlo simulation number 350.\n",
      "Running Monte Carlo simulation number 360.\n",
      "Running Monte Carlo simulation number 370.\n",
      "Running Monte Carlo simulation number 380.\n",
      "Running Monte Carlo simulation number 390.\n",
      "Running Monte Carlo simulation number 400.\n",
      "Running Monte Carlo simulation number 410.\n",
      "Running Monte Carlo simulation number 420.\n",
      "Running Monte Carlo simulation number 430.\n",
      "Running Monte Carlo simulation number 440.\n",
      "Running Monte Carlo simulation number 450.\n",
      "Running Monte Carlo simulation number 460.\n",
      "Running Monte Carlo simulation number 470.\n",
      "Running Monte Carlo simulation number 480.\n",
      "Running Monte Carlo simulation number 490.\n"
     ]
    },
    {
     "data": {
      "text/html": [
       "<div>\n",
       "<style scoped>\n",
       "    .dataframe tbody tr th:only-of-type {\n",
       "        vertical-align: middle;\n",
       "    }\n",
       "\n",
       "    .dataframe tbody tr th {\n",
       "        vertical-align: top;\n",
       "    }\n",
       "\n",
       "    .dataframe thead th {\n",
       "        text-align: right;\n",
       "    }\n",
       "</style>\n",
       "<table border=\"1\" class=\"dataframe\">\n",
       "  <thead>\n",
       "    <tr style=\"text-align: right;\">\n",
       "      <th></th>\n",
       "      <th>0</th>\n",
       "      <th>1</th>\n",
       "      <th>2</th>\n",
       "      <th>3</th>\n",
       "      <th>4</th>\n",
       "      <th>5</th>\n",
       "      <th>6</th>\n",
       "      <th>7</th>\n",
       "      <th>8</th>\n",
       "      <th>9</th>\n",
       "      <th>...</th>\n",
       "      <th>490</th>\n",
       "      <th>491</th>\n",
       "      <th>492</th>\n",
       "      <th>493</th>\n",
       "      <th>494</th>\n",
       "      <th>495</th>\n",
       "      <th>496</th>\n",
       "      <th>497</th>\n",
       "      <th>498</th>\n",
       "      <th>499</th>\n",
       "    </tr>\n",
       "  </thead>\n",
       "  <tbody>\n",
       "    <tr>\n",
       "      <th>0</th>\n",
       "      <td>1.000000</td>\n",
       "      <td>1.000000</td>\n",
       "      <td>1.000000</td>\n",
       "      <td>1.000000</td>\n",
       "      <td>1.000000</td>\n",
       "      <td>1.000000</td>\n",
       "      <td>1.000000</td>\n",
       "      <td>1.000000</td>\n",
       "      <td>1.000000</td>\n",
       "      <td>1.000000</td>\n",
       "      <td>...</td>\n",
       "      <td>1.000000</td>\n",
       "      <td>1.000000</td>\n",
       "      <td>1.000000</td>\n",
       "      <td>1.000000</td>\n",
       "      <td>1.000000</td>\n",
       "      <td>1.000000</td>\n",
       "      <td>1.000000</td>\n",
       "      <td>1.000000</td>\n",
       "      <td>1.000000</td>\n",
       "      <td>1.000000</td>\n",
       "    </tr>\n",
       "    <tr>\n",
       "      <th>1</th>\n",
       "      <td>0.994808</td>\n",
       "      <td>0.996270</td>\n",
       "      <td>1.003430</td>\n",
       "      <td>1.002817</td>\n",
       "      <td>0.992729</td>\n",
       "      <td>1.001303</td>\n",
       "      <td>0.992475</td>\n",
       "      <td>1.004820</td>\n",
       "      <td>1.002065</td>\n",
       "      <td>1.000667</td>\n",
       "      <td>...</td>\n",
       "      <td>0.986220</td>\n",
       "      <td>1.003661</td>\n",
       "      <td>0.990999</td>\n",
       "      <td>0.994895</td>\n",
       "      <td>0.989061</td>\n",
       "      <td>1.016102</td>\n",
       "      <td>0.997490</td>\n",
       "      <td>1.004275</td>\n",
       "      <td>0.997544</td>\n",
       "      <td>0.999807</td>\n",
       "    </tr>\n",
       "    <tr>\n",
       "      <th>2</th>\n",
       "      <td>1.007433</td>\n",
       "      <td>0.993370</td>\n",
       "      <td>1.002088</td>\n",
       "      <td>0.995891</td>\n",
       "      <td>0.990901</td>\n",
       "      <td>1.008679</td>\n",
       "      <td>0.997097</td>\n",
       "      <td>1.010567</td>\n",
       "      <td>1.001252</td>\n",
       "      <td>1.005065</td>\n",
       "      <td>...</td>\n",
       "      <td>0.985572</td>\n",
       "      <td>0.999406</td>\n",
       "      <td>0.990769</td>\n",
       "      <td>0.995971</td>\n",
       "      <td>0.988580</td>\n",
       "      <td>1.014196</td>\n",
       "      <td>0.994673</td>\n",
       "      <td>1.008277</td>\n",
       "      <td>0.998686</td>\n",
       "      <td>0.993062</td>\n",
       "    </tr>\n",
       "    <tr>\n",
       "      <th>3</th>\n",
       "      <td>1.008364</td>\n",
       "      <td>0.990044</td>\n",
       "      <td>1.005207</td>\n",
       "      <td>0.994145</td>\n",
       "      <td>0.981450</td>\n",
       "      <td>1.010494</td>\n",
       "      <td>1.006822</td>\n",
       "      <td>1.009347</td>\n",
       "      <td>0.996387</td>\n",
       "      <td>1.005115</td>\n",
       "      <td>...</td>\n",
       "      <td>0.986825</td>\n",
       "      <td>1.012577</td>\n",
       "      <td>0.982248</td>\n",
       "      <td>0.994858</td>\n",
       "      <td>0.991781</td>\n",
       "      <td>1.017759</td>\n",
       "      <td>1.004996</td>\n",
       "      <td>1.001367</td>\n",
       "      <td>1.003864</td>\n",
       "      <td>0.996395</td>\n",
       "    </tr>\n",
       "    <tr>\n",
       "      <th>4</th>\n",
       "      <td>1.007684</td>\n",
       "      <td>0.994672</td>\n",
       "      <td>0.995547</td>\n",
       "      <td>0.988984</td>\n",
       "      <td>0.982909</td>\n",
       "      <td>1.008190</td>\n",
       "      <td>1.011958</td>\n",
       "      <td>1.009129</td>\n",
       "      <td>1.005083</td>\n",
       "      <td>1.007648</td>\n",
       "      <td>...</td>\n",
       "      <td>0.985737</td>\n",
       "      <td>1.012095</td>\n",
       "      <td>0.983404</td>\n",
       "      <td>0.998776</td>\n",
       "      <td>0.999099</td>\n",
       "      <td>1.022443</td>\n",
       "      <td>1.005377</td>\n",
       "      <td>0.998115</td>\n",
       "      <td>1.001326</td>\n",
       "      <td>1.005116</td>\n",
       "    </tr>\n",
       "    <tr>\n",
       "      <th>...</th>\n",
       "      <td>...</td>\n",
       "      <td>...</td>\n",
       "      <td>...</td>\n",
       "      <td>...</td>\n",
       "      <td>...</td>\n",
       "      <td>...</td>\n",
       "      <td>...</td>\n",
       "      <td>...</td>\n",
       "      <td>...</td>\n",
       "      <td>...</td>\n",
       "      <td>...</td>\n",
       "      <td>...</td>\n",
       "      <td>...</td>\n",
       "      <td>...</td>\n",
       "      <td>...</td>\n",
       "      <td>...</td>\n",
       "      <td>...</td>\n",
       "      <td>...</td>\n",
       "      <td>...</td>\n",
       "      <td>...</td>\n",
       "      <td>...</td>\n",
       "    </tr>\n",
       "    <tr>\n",
       "      <th>2516</th>\n",
       "      <td>3.087343</td>\n",
       "      <td>2.275180</td>\n",
       "      <td>1.817091</td>\n",
       "      <td>2.150881</td>\n",
       "      <td>2.761861</td>\n",
       "      <td>2.337213</td>\n",
       "      <td>1.671327</td>\n",
       "      <td>1.443316</td>\n",
       "      <td>2.457563</td>\n",
       "      <td>1.617651</td>\n",
       "      <td>...</td>\n",
       "      <td>2.085293</td>\n",
       "      <td>2.673676</td>\n",
       "      <td>2.205300</td>\n",
       "      <td>2.378722</td>\n",
       "      <td>1.934072</td>\n",
       "      <td>2.249026</td>\n",
       "      <td>1.607371</td>\n",
       "      <td>1.708246</td>\n",
       "      <td>2.448714</td>\n",
       "      <td>2.553725</td>\n",
       "    </tr>\n",
       "    <tr>\n",
       "      <th>2517</th>\n",
       "      <td>3.096551</td>\n",
       "      <td>2.284072</td>\n",
       "      <td>1.832360</td>\n",
       "      <td>2.143936</td>\n",
       "      <td>2.750987</td>\n",
       "      <td>2.360933</td>\n",
       "      <td>1.663976</td>\n",
       "      <td>1.451122</td>\n",
       "      <td>2.465708</td>\n",
       "      <td>1.624551</td>\n",
       "      <td>...</td>\n",
       "      <td>2.065235</td>\n",
       "      <td>2.675586</td>\n",
       "      <td>2.213360</td>\n",
       "      <td>2.385591</td>\n",
       "      <td>1.948430</td>\n",
       "      <td>2.261379</td>\n",
       "      <td>1.605029</td>\n",
       "      <td>1.716098</td>\n",
       "      <td>2.450118</td>\n",
       "      <td>2.569519</td>\n",
       "    </tr>\n",
       "    <tr>\n",
       "      <th>2518</th>\n",
       "      <td>3.095989</td>\n",
       "      <td>2.260259</td>\n",
       "      <td>1.847054</td>\n",
       "      <td>2.153107</td>\n",
       "      <td>2.745349</td>\n",
       "      <td>2.364756</td>\n",
       "      <td>1.673997</td>\n",
       "      <td>1.455826</td>\n",
       "      <td>2.473691</td>\n",
       "      <td>1.616056</td>\n",
       "      <td>...</td>\n",
       "      <td>2.057672</td>\n",
       "      <td>2.668687</td>\n",
       "      <td>2.203625</td>\n",
       "      <td>2.363293</td>\n",
       "      <td>1.953230</td>\n",
       "      <td>2.280465</td>\n",
       "      <td>1.610718</td>\n",
       "      <td>1.699370</td>\n",
       "      <td>2.459979</td>\n",
       "      <td>2.553957</td>\n",
       "    </tr>\n",
       "    <tr>\n",
       "      <th>2519</th>\n",
       "      <td>3.107023</td>\n",
       "      <td>2.252240</td>\n",
       "      <td>1.839810</td>\n",
       "      <td>2.135645</td>\n",
       "      <td>2.766129</td>\n",
       "      <td>2.376725</td>\n",
       "      <td>1.677449</td>\n",
       "      <td>1.448622</td>\n",
       "      <td>2.471416</td>\n",
       "      <td>1.605244</td>\n",
       "      <td>...</td>\n",
       "      <td>2.056776</td>\n",
       "      <td>2.670142</td>\n",
       "      <td>2.212678</td>\n",
       "      <td>2.368689</td>\n",
       "      <td>1.958934</td>\n",
       "      <td>2.275796</td>\n",
       "      <td>1.616674</td>\n",
       "      <td>1.706265</td>\n",
       "      <td>2.477615</td>\n",
       "      <td>2.570174</td>\n",
       "    </tr>\n",
       "    <tr>\n",
       "      <th>2520</th>\n",
       "      <td>3.082997</td>\n",
       "      <td>2.263834</td>\n",
       "      <td>1.860101</td>\n",
       "      <td>2.133868</td>\n",
       "      <td>2.759819</td>\n",
       "      <td>2.390214</td>\n",
       "      <td>1.677405</td>\n",
       "      <td>1.447195</td>\n",
       "      <td>2.459042</td>\n",
       "      <td>1.607311</td>\n",
       "      <td>...</td>\n",
       "      <td>2.049435</td>\n",
       "      <td>2.694973</td>\n",
       "      <td>2.207692</td>\n",
       "      <td>2.347104</td>\n",
       "      <td>1.962438</td>\n",
       "      <td>2.285836</td>\n",
       "      <td>1.612183</td>\n",
       "      <td>1.701012</td>\n",
       "      <td>2.495003</td>\n",
       "      <td>2.601633</td>\n",
       "    </tr>\n",
       "  </tbody>\n",
       "</table>\n",
       "<p>2521 rows × 500 columns</p>\n",
       "</div>"
      ],
      "text/plain": [
       "           0         1         2         3         4         5         6    \\\n",
       "0     1.000000  1.000000  1.000000  1.000000  1.000000  1.000000  1.000000   \n",
       "1     0.994808  0.996270  1.003430  1.002817  0.992729  1.001303  0.992475   \n",
       "2     1.007433  0.993370  1.002088  0.995891  0.990901  1.008679  0.997097   \n",
       "3     1.008364  0.990044  1.005207  0.994145  0.981450  1.010494  1.006822   \n",
       "4     1.007684  0.994672  0.995547  0.988984  0.982909  1.008190  1.011958   \n",
       "...        ...       ...       ...       ...       ...       ...       ...   \n",
       "2516  3.087343  2.275180  1.817091  2.150881  2.761861  2.337213  1.671327   \n",
       "2517  3.096551  2.284072  1.832360  2.143936  2.750987  2.360933  1.663976   \n",
       "2518  3.095989  2.260259  1.847054  2.153107  2.745349  2.364756  1.673997   \n",
       "2519  3.107023  2.252240  1.839810  2.135645  2.766129  2.376725  1.677449   \n",
       "2520  3.082997  2.263834  1.860101  2.133868  2.759819  2.390214  1.677405   \n",
       "\n",
       "           7         8         9    ...       490       491       492  \\\n",
       "0     1.000000  1.000000  1.000000  ...  1.000000  1.000000  1.000000   \n",
       "1     1.004820  1.002065  1.000667  ...  0.986220  1.003661  0.990999   \n",
       "2     1.010567  1.001252  1.005065  ...  0.985572  0.999406  0.990769   \n",
       "3     1.009347  0.996387  1.005115  ...  0.986825  1.012577  0.982248   \n",
       "4     1.009129  1.005083  1.007648  ...  0.985737  1.012095  0.983404   \n",
       "...        ...       ...       ...  ...       ...       ...       ...   \n",
       "2516  1.443316  2.457563  1.617651  ...  2.085293  2.673676  2.205300   \n",
       "2517  1.451122  2.465708  1.624551  ...  2.065235  2.675586  2.213360   \n",
       "2518  1.455826  2.473691  1.616056  ...  2.057672  2.668687  2.203625   \n",
       "2519  1.448622  2.471416  1.605244  ...  2.056776  2.670142  2.212678   \n",
       "2520  1.447195  2.459042  1.607311  ...  2.049435  2.694973  2.207692   \n",
       "\n",
       "           493       494       495       496       497       498       499  \n",
       "0     1.000000  1.000000  1.000000  1.000000  1.000000  1.000000  1.000000  \n",
       "1     0.994895  0.989061  1.016102  0.997490  1.004275  0.997544  0.999807  \n",
       "2     0.995971  0.988580  1.014196  0.994673  1.008277  0.998686  0.993062  \n",
       "3     0.994858  0.991781  1.017759  1.004996  1.001367  1.003864  0.996395  \n",
       "4     0.998776  0.999099  1.022443  1.005377  0.998115  1.001326  1.005116  \n",
       "...        ...       ...       ...       ...       ...       ...       ...  \n",
       "2516  2.378722  1.934072  2.249026  1.607371  1.708246  2.448714  2.553725  \n",
       "2517  2.385591  1.948430  2.261379  1.605029  1.716098  2.450118  2.569519  \n",
       "2518  2.363293  1.953230  2.280465  1.610718  1.699370  2.459979  2.553957  \n",
       "2519  2.368689  1.958934  2.275796  1.616674  1.706265  2.477615  2.570174  \n",
       "2520  2.347104  1.962438  2.285836  1.612183  1.701012  2.495003  2.601633  \n",
       "\n",
       "[2521 rows x 500 columns]"
      ]
     },
     "execution_count": 41,
     "metadata": {},
     "output_type": "execute_result"
    }
   ],
   "source": [
    "# Running a Monte Carlo simulation to forecast 10 years cumulative returns\n",
    "forecast_10y.calc_cumulative_return()"
   ]
  },
  {
   "cell_type": "code",
   "execution_count": 42,
   "metadata": {},
   "outputs": [
    {
     "data": {
      "text/plain": [
       "<AxesSubplot:title={'center':'500 Simulations of Cumulative Portfolio Return Trajectories Over the Next 2520 Trading Days.'}>"
      ]
     },
     "execution_count": 42,
     "metadata": {},
     "output_type": "execute_result"
    },
    {
     "data": {
      "image/png": "[encoded data removed]",
      "text/plain": [
       "<Figure size 432x288 with 1 Axes>"
      ]
     },
     "metadata": {
      "needs_background": "light"
     },
     "output_type": "display_data"
    }
   ],
   "source": [
    "# Plot simulation outcomes\n",
    "forecast_10y.plot_simulation()"
   ]
  },
  {
   "cell_type": "code",
   "execution_count": 43,
   "metadata": {},
   "outputs": [
    {
     "data": {
      "text/plain": [
       "<AxesSubplot:title={'center':'Distribution of Final Cumuluative Returns Across All 500 Simulations'}, ylabel='Frequency'>"
      ]
     },
     "execution_count": 43,
     "metadata": {},
     "output_type": "execute_result"
    },
    {
     "data": {
      "image/png": "[encoded data removed]",
      "text/plain": [
       "<Figure size 432x288 with 1 Axes>"
      ]
     },
     "metadata": {
      "needs_background": "light"
     },
     "output_type": "display_data"
    }
   ],
   "source": [
    "# Plot probability distribution and confidence intervals\n",
    "forecast_10y.plot_distribution()"
   ]
  },
  {
   "cell_type": "code",
   "execution_count": 44,
   "metadata": {},
   "outputs": [
    {
     "data": {
      "text/plain": [
       "count           500.000000\n",
       "mean              2.070592\n",
       "std               0.575819\n",
       "min               0.977280\n",
       "25%               1.666080\n",
       "50%               2.009682\n",
       "75%               2.383664\n",
       "max               5.093175\n",
       "95% CI Lower      1.190644\n",
       "95% CI Upper      3.425336\n",
       "Name: 2520, dtype: float64"
      ]
     },
     "execution_count": 44,
     "metadata": {},
     "output_type": "execute_result"
    }
   ],
   "source": [
    "# Fetch summary statistics from the Monte Carlo simulation results\n",
    "summary_10y = forecast_10y.summarize_cumulative_return()\n",
    "\n",
    "# Print summary statistics\n",
    "summary_10y"
   ]
  },
  {
   "cell_type": "code",
   "execution_count": 45,
   "metadata": {},
   "outputs": [],
   "source": [
    "# Set initial investment\n",
    "# YOUR CODE HERE!\n",
    "\n",
    "# Use the lower and upper `95%` confidence intervals to calculate the range of the possible outcomes of our $60,000\n",
    "# YOUR CODE HERE!\n",
    "\n",
    "# Print results\n",
    "# print(f\"There is a 95% chance that an initial investment of ${initial_investment} in the portfolio\"\n",
    "#       f\" over the next 10 years will end within in the range of\"\n",
    "#       f\" ${ci_lower_ten} and ${ci_upper_ten}\")"
   ]
  },
  {
   "cell_type": "code",
   "execution_count": 46,
   "metadata": {},
   "outputs": [
    {
     "name": "stdout",
     "output_type": "stream",
     "text": [
      "There is a 95% chance that an initial investment of $60,000.00 in the portfolio over the next 10 years will end within the range of $71,438.66 and $205,520.19.\n"
     ]
    }
   ],
   "source": [
    "# Expected portfolio return after ten years with an initial investment of $60,000\n",
    "confidence(10, summary_10y, 60000)"
   ]
  },
  {
   "cell_type": "code",
   "execution_count": 47,
   "metadata": {},
   "outputs": [
    {
     "name": "stdout",
     "output_type": "stream",
     "text": [
      "There is a 95% chance that an initial investment of $90,000.00 in the portfolio over the next 10 years will end within the range of $107,157.99 and $308,280.28.\n"
     ]
    }
   ],
   "source": [
    "# Expected returns with a 50% increase to initial investment\n",
    "inc_confidence(10, summary_10y, 60000, 1.5)"
   ]
  },
  {
   "cell_type": "code",
   "execution_count": null,
   "metadata": {},
   "outputs": [],
   "source": []
  }
 ],
 "metadata": {
  "interpreter": {
   "hash": "b99179680431247aa32727287b6c35e0af53b4f4353d3c90897e4e19602206f2"
  },
  "kernelspec": {
   "display_name": "Python 3.7.11 64-bit ('alpacaenv': conda)",
   "name": "python3"
  },
  "language_info": {
   "codemirror_mode": {
    "name": "ipython",
    "version": 3
   },
   "file_extension": ".py",
   "mimetype": "text/x-python",
   "name": "python",
   "nbconvert_exporter": "python",
   "pygments_lexer": "ipython3",
   "version": "3.7.11"
  },
  "nteract": {
   "version": "0.28.0"
  }
 },
 "nbformat": 4,
 "nbformat_minor": 4
}
